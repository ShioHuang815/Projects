{
 "cells": [
  {
   "cell_type": "code",
   "execution_count": 126,
   "metadata": {
    "deletable": false,
    "editable": false
   },
   "outputs": [],
   "source": [
    "# Initialize Otter\n",
    "import otter\n",
    "grader = otter.Notebook(\"proj02.ipynb\")"
   ]
  },
  {
   "cell_type": "markdown",
   "metadata": {},
   "source": [
    "<table style=\"width: 100%;\" id=\"nb-header\">\n",
    "    <tr style=\"background-color: transparent;\"><td>\n",
    "        <img src=\"https://data-88e.github.io/assets/images/blue_text.png\" width=\"250px\" style=\"margin-left: 0;\" />\n",
    "    </td><td>\n",
    "        <p style=\"text-align: right; font-size: 10pt;\"><strong>Economic Models</strong>, Fall 2022<br>\n",
    "            Dr. Eric Van Dusen<br>\n",
    "        Notebook by Umar Maniku</p></td></tr>\n",
    "</table>"
   ]
  },
  {
   "cell_type": "markdown",
   "metadata": {},
   "source": [
    "# Project 2: The Cobb-Douglas Production Function"
   ]
  },
  {
   "cell_type": "markdown",
   "metadata": {},
   "source": [
    "<!-- ## Due Dates and Important Information:\n",
    "\n",
    "- This project is in three parts.\n",
    "- The whole project (all three parts) will be due 2 Mondays from now, on March 16, 2020 at 11:59pm on Gradescope.\n",
    "- **Do not change any of the given variable or function names as this would cause autograder problems. Make sure to name your columns and tables exactly as the questions ask you to.** -->"
   ]
  },
  {
   "cell_type": "code",
   "execution_count": 127,
   "metadata": {},
   "outputs": [],
   "source": [
    "from utils import *\n",
    "import pandas as pd\n",
    "from datascience import *\n",
    "from sympy import *\n",
    "import matplotlib.pyplot as plt\n",
    "import numpy as np \n",
    "import seaborn as sns\n",
    "from sklearn.linear_model import LinearRegression\n",
    "%matplotlib inline\n",
    "plt.style.use(\"seaborn-notebook\")"
   ]
  },
  {
   "cell_type": "markdown",
   "metadata": {},
   "source": [
    "The goal of this project is to gain experience completing the following key steps in the data science pipeline:\n",
    "\n",
    "1. Cleaning and filtering data collected from online sources\n",
    "2. Identifying and visualizing overall trends in the data using a process called Exploratory Data Analysis (EDA)\n",
    "3. Using the data to complete a problem of prediction\n",
    "\n",
    "We hope that at the end of this project, you will see how the skills you have learned in Data 8 and this class can prepare you for dealing with real world datasets, and how you can use them to answer questions about the economy or the world."
   ]
  },
  {
   "cell_type": "markdown",
   "metadata": {},
   "source": [
    "The question you will be answering today is the following: \n",
    "\n",
    "> How can we apply the Cobb-Douglas Production Function to understand the different ways countries produce output or GDP?"
   ]
  },
  {
   "cell_type": "markdown",
   "metadata": {},
   "source": [
    "## Part 1: Simplifying the Problem"
   ]
  },
  {
   "cell_type": "markdown",
   "metadata": {},
   "source": [
    "Let's load in the data for this project. The cell below loads the data from `pwt100.csv` and saves it to the variable `data`. Take a look at the first 10 rows."
   ]
  },
  {
   "cell_type": "code",
   "execution_count": 128,
   "metadata": {
    "tags": [
     "gradable"
    ]
   },
   "outputs": [
    {
     "data": {
      "text/html": [
       "<table border=\"1\" class=\"dataframe\">\n",
       "    <thead>\n",
       "        <tr>\n",
       "            <th>countrycode</th> <th>country</th> <th>currency_unit</th> <th>year</th> <th>rgdpe</th> <th>rgdpo</th> <th>pop</th> <th>emp</th> <th>avh</th> <th>hc</th> <th>ccon</th> <th>cda</th> <th>cgdpe</th> <th>cgdpo</th> <th>cn</th> <th>ck</th> <th>ctfp</th> <th>cwtfp</th> <th>rgdpna</th> <th>rconna</th> <th>rdana</th> <th>rnna</th> <th>rkna</th> <th>rtfpna</th> <th>rwtfpna</th> <th>labsh</th> <th>irr</th> <th>delta</th> <th>xr</th> <th>pl_con</th> <th>pl_da</th> <th>pl_gdpo</th> <th>i_cig</th> <th>i_xm</th> <th>i_xr</th> <th>i_outlier</th> <th>i_irr</th> <th>cor_exp</th> <th>statcap</th> <th>csh_c</th> <th>csh_i</th> <th>csh_g</th> <th>csh_x</th> <th>csh_m</th> <th>csh_r</th> <th>pl_c</th> <th>pl_i</th> <th>pl_g</th> <th>pl_x</th> <th>pl_m</th> <th>pl_n</th> <th>pl_k</th>\n",
       "        </tr>\n",
       "    </thead>\n",
       "    <tbody>\n",
       "        <tr>\n",
       "            <td>ABW        </td> <td>Aruba  </td> <td>Aruban Guilder</td> <td>1950</td> <td>-1   </td> <td>-1   </td> <td>-1  </td> <td>-1  </td> <td>-1  </td> <td>-1  </td> <td>-1  </td> <td>-1  </td> <td>-1   </td> <td>-1   </td> <td>-1  </td> <td>-1  </td> <td>-1  </td> <td>-1   </td> <td>-1    </td> <td>-1    </td> <td>-1   </td> <td>-1  </td> <td>-1  </td> <td>-1    </td> <td>-1     </td> <td>-1   </td> <td>-1  </td> <td>-1   </td> <td>-1  </td> <td>-1    </td> <td>-1   </td> <td>-1     </td> <td>-1   </td> <td>-1  </td> <td>-1  </td> <td>-1       </td> <td>-1   </td> <td>-1     </td> <td>-1     </td> <td>-1   </td> <td>-1   </td> <td>-1   </td> <td>-1   </td> <td>-1   </td> <td>-1   </td> <td>-1  </td> <td>-1  </td> <td>-1  </td> <td>-1  </td> <td>-1  </td> <td>-1  </td> <td>-1  </td>\n",
       "        </tr>\n",
       "        <tr>\n",
       "            <td>ABW        </td> <td>Aruba  </td> <td>Aruban Guilder</td> <td>1951</td> <td>-1   </td> <td>-1   </td> <td>-1  </td> <td>-1  </td> <td>-1  </td> <td>-1  </td> <td>-1  </td> <td>-1  </td> <td>-1   </td> <td>-1   </td> <td>-1  </td> <td>-1  </td> <td>-1  </td> <td>-1   </td> <td>-1    </td> <td>-1    </td> <td>-1   </td> <td>-1  </td> <td>-1  </td> <td>-1    </td> <td>-1     </td> <td>-1   </td> <td>-1  </td> <td>-1   </td> <td>-1  </td> <td>-1    </td> <td>-1   </td> <td>-1     </td> <td>-1   </td> <td>-1  </td> <td>-1  </td> <td>-1       </td> <td>-1   </td> <td>-1     </td> <td>-1     </td> <td>-1   </td> <td>-1   </td> <td>-1   </td> <td>-1   </td> <td>-1   </td> <td>-1   </td> <td>-1  </td> <td>-1  </td> <td>-1  </td> <td>-1  </td> <td>-1  </td> <td>-1  </td> <td>-1  </td>\n",
       "        </tr>\n",
       "        <tr>\n",
       "            <td>ABW        </td> <td>Aruba  </td> <td>Aruban Guilder</td> <td>1952</td> <td>-1   </td> <td>-1   </td> <td>-1  </td> <td>-1  </td> <td>-1  </td> <td>-1  </td> <td>-1  </td> <td>-1  </td> <td>-1   </td> <td>-1   </td> <td>-1  </td> <td>-1  </td> <td>-1  </td> <td>-1   </td> <td>-1    </td> <td>-1    </td> <td>-1   </td> <td>-1  </td> <td>-1  </td> <td>-1    </td> <td>-1     </td> <td>-1   </td> <td>-1  </td> <td>-1   </td> <td>-1  </td> <td>-1    </td> <td>-1   </td> <td>-1     </td> <td>-1   </td> <td>-1  </td> <td>-1  </td> <td>-1       </td> <td>-1   </td> <td>-1     </td> <td>-1     </td> <td>-1   </td> <td>-1   </td> <td>-1   </td> <td>-1   </td> <td>-1   </td> <td>-1   </td> <td>-1  </td> <td>-1  </td> <td>-1  </td> <td>-1  </td> <td>-1  </td> <td>-1  </td> <td>-1  </td>\n",
       "        </tr>\n",
       "        <tr>\n",
       "            <td>ABW        </td> <td>Aruba  </td> <td>Aruban Guilder</td> <td>1953</td> <td>-1   </td> <td>-1   </td> <td>-1  </td> <td>-1  </td> <td>-1  </td> <td>-1  </td> <td>-1  </td> <td>-1  </td> <td>-1   </td> <td>-1   </td> <td>-1  </td> <td>-1  </td> <td>-1  </td> <td>-1   </td> <td>-1    </td> <td>-1    </td> <td>-1   </td> <td>-1  </td> <td>-1  </td> <td>-1    </td> <td>-1     </td> <td>-1   </td> <td>-1  </td> <td>-1   </td> <td>-1  </td> <td>-1    </td> <td>-1   </td> <td>-1     </td> <td>-1   </td> <td>-1  </td> <td>-1  </td> <td>-1       </td> <td>-1   </td> <td>-1     </td> <td>-1     </td> <td>-1   </td> <td>-1   </td> <td>-1   </td> <td>-1   </td> <td>-1   </td> <td>-1   </td> <td>-1  </td> <td>-1  </td> <td>-1  </td> <td>-1  </td> <td>-1  </td> <td>-1  </td> <td>-1  </td>\n",
       "        </tr>\n",
       "        <tr>\n",
       "            <td>ABW        </td> <td>Aruba  </td> <td>Aruban Guilder</td> <td>1954</td> <td>-1   </td> <td>-1   </td> <td>-1  </td> <td>-1  </td> <td>-1  </td> <td>-1  </td> <td>-1  </td> <td>-1  </td> <td>-1   </td> <td>-1   </td> <td>-1  </td> <td>-1  </td> <td>-1  </td> <td>-1   </td> <td>-1    </td> <td>-1    </td> <td>-1   </td> <td>-1  </td> <td>-1  </td> <td>-1    </td> <td>-1     </td> <td>-1   </td> <td>-1  </td> <td>-1   </td> <td>-1  </td> <td>-1    </td> <td>-1   </td> <td>-1     </td> <td>-1   </td> <td>-1  </td> <td>-1  </td> <td>-1       </td> <td>-1   </td> <td>-1     </td> <td>-1     </td> <td>-1   </td> <td>-1   </td> <td>-1   </td> <td>-1   </td> <td>-1   </td> <td>-1   </td> <td>-1  </td> <td>-1  </td> <td>-1  </td> <td>-1  </td> <td>-1  </td> <td>-1  </td> <td>-1  </td>\n",
       "        </tr>\n",
       "        <tr>\n",
       "            <td>ABW        </td> <td>Aruba  </td> <td>Aruban Guilder</td> <td>1955</td> <td>-1   </td> <td>-1   </td> <td>-1  </td> <td>-1  </td> <td>-1  </td> <td>-1  </td> <td>-1  </td> <td>-1  </td> <td>-1   </td> <td>-1   </td> <td>-1  </td> <td>-1  </td> <td>-1  </td> <td>-1   </td> <td>-1    </td> <td>-1    </td> <td>-1   </td> <td>-1  </td> <td>-1  </td> <td>-1    </td> <td>-1     </td> <td>-1   </td> <td>-1  </td> <td>-1   </td> <td>-1  </td> <td>-1    </td> <td>-1   </td> <td>-1     </td> <td>-1   </td> <td>-1  </td> <td>-1  </td> <td>-1       </td> <td>-1   </td> <td>-1     </td> <td>-1     </td> <td>-1   </td> <td>-1   </td> <td>-1   </td> <td>-1   </td> <td>-1   </td> <td>-1   </td> <td>-1  </td> <td>-1  </td> <td>-1  </td> <td>-1  </td> <td>-1  </td> <td>-1  </td> <td>-1  </td>\n",
       "        </tr>\n",
       "        <tr>\n",
       "            <td>ABW        </td> <td>Aruba  </td> <td>Aruban Guilder</td> <td>1956</td> <td>-1   </td> <td>-1   </td> <td>-1  </td> <td>-1  </td> <td>-1  </td> <td>-1  </td> <td>-1  </td> <td>-1  </td> <td>-1   </td> <td>-1   </td> <td>-1  </td> <td>-1  </td> <td>-1  </td> <td>-1   </td> <td>-1    </td> <td>-1    </td> <td>-1   </td> <td>-1  </td> <td>-1  </td> <td>-1    </td> <td>-1     </td> <td>-1   </td> <td>-1  </td> <td>-1   </td> <td>-1  </td> <td>-1    </td> <td>-1   </td> <td>-1     </td> <td>-1   </td> <td>-1  </td> <td>-1  </td> <td>-1       </td> <td>-1   </td> <td>-1     </td> <td>-1     </td> <td>-1   </td> <td>-1   </td> <td>-1   </td> <td>-1   </td> <td>-1   </td> <td>-1   </td> <td>-1  </td> <td>-1  </td> <td>-1  </td> <td>-1  </td> <td>-1  </td> <td>-1  </td> <td>-1  </td>\n",
       "        </tr>\n",
       "        <tr>\n",
       "            <td>ABW        </td> <td>Aruba  </td> <td>Aruban Guilder</td> <td>1957</td> <td>-1   </td> <td>-1   </td> <td>-1  </td> <td>-1  </td> <td>-1  </td> <td>-1  </td> <td>-1  </td> <td>-1  </td> <td>-1   </td> <td>-1   </td> <td>-1  </td> <td>-1  </td> <td>-1  </td> <td>-1   </td> <td>-1    </td> <td>-1    </td> <td>-1   </td> <td>-1  </td> <td>-1  </td> <td>-1    </td> <td>-1     </td> <td>-1   </td> <td>-1  </td> <td>-1   </td> <td>-1  </td> <td>-1    </td> <td>-1   </td> <td>-1     </td> <td>-1   </td> <td>-1  </td> <td>-1  </td> <td>-1       </td> <td>-1   </td> <td>-1     </td> <td>-1     </td> <td>-1   </td> <td>-1   </td> <td>-1   </td> <td>-1   </td> <td>-1   </td> <td>-1   </td> <td>-1  </td> <td>-1  </td> <td>-1  </td> <td>-1  </td> <td>-1  </td> <td>-1  </td> <td>-1  </td>\n",
       "        </tr>\n",
       "        <tr>\n",
       "            <td>ABW        </td> <td>Aruba  </td> <td>Aruban Guilder</td> <td>1958</td> <td>-1   </td> <td>-1   </td> <td>-1  </td> <td>-1  </td> <td>-1  </td> <td>-1  </td> <td>-1  </td> <td>-1  </td> <td>-1   </td> <td>-1   </td> <td>-1  </td> <td>-1  </td> <td>-1  </td> <td>-1   </td> <td>-1    </td> <td>-1    </td> <td>-1   </td> <td>-1  </td> <td>-1  </td> <td>-1    </td> <td>-1     </td> <td>-1   </td> <td>-1  </td> <td>-1   </td> <td>-1  </td> <td>-1    </td> <td>-1   </td> <td>-1     </td> <td>-1   </td> <td>-1  </td> <td>-1  </td> <td>-1       </td> <td>-1   </td> <td>-1     </td> <td>-1     </td> <td>-1   </td> <td>-1   </td> <td>-1   </td> <td>-1   </td> <td>-1   </td> <td>-1   </td> <td>-1  </td> <td>-1  </td> <td>-1  </td> <td>-1  </td> <td>-1  </td> <td>-1  </td> <td>-1  </td>\n",
       "        </tr>\n",
       "        <tr>\n",
       "            <td>ABW        </td> <td>Aruba  </td> <td>Aruban Guilder</td> <td>1959</td> <td>-1   </td> <td>-1   </td> <td>-1  </td> <td>-1  </td> <td>-1  </td> <td>-1  </td> <td>-1  </td> <td>-1  </td> <td>-1   </td> <td>-1   </td> <td>-1  </td> <td>-1  </td> <td>-1  </td> <td>-1   </td> <td>-1    </td> <td>-1    </td> <td>-1   </td> <td>-1  </td> <td>-1  </td> <td>-1    </td> <td>-1     </td> <td>-1   </td> <td>-1  </td> <td>-1   </td> <td>-1  </td> <td>-1    </td> <td>-1   </td> <td>-1     </td> <td>-1   </td> <td>-1  </td> <td>-1  </td> <td>-1       </td> <td>-1   </td> <td>-1     </td> <td>-1     </td> <td>-1   </td> <td>-1   </td> <td>-1   </td> <td>-1   </td> <td>-1   </td> <td>-1   </td> <td>-1  </td> <td>-1  </td> <td>-1  </td> <td>-1  </td> <td>-1  </td> <td>-1  </td> <td>-1  </td>\n",
       "        </tr>\n",
       "    </tbody>\n",
       "</table>\n",
       "<p>... (12800 rows omitted)</p>"
      ],
      "text/plain": [
       "countrycode | country | currency_unit  | year | rgdpe | rgdpo | pop  | emp  | avh  | hc   | ccon | cda  | cgdpe | cgdpo | cn   | ck   | ctfp | cwtfp | rgdpna | rconna | rdana | rnna | rkna | rtfpna | rwtfpna | labsh | irr  | delta | xr   | pl_con | pl_da | pl_gdpo | i_cig | i_xm | i_xr | i_outlier | i_irr | cor_exp | statcap | csh_c | csh_i | csh_g | csh_x | csh_m | csh_r | pl_c | pl_i | pl_g | pl_x | pl_m | pl_n | pl_k\n",
       "ABW         | Aruba   | Aruban Guilder | 1950 | -1    | -1    | -1   | -1   | -1   | -1   | -1   | -1   | -1    | -1    | -1   | -1   | -1   | -1    | -1     | -1     | -1    | -1   | -1   | -1     | -1      | -1    | -1   | -1    | -1   | -1     | -1    | -1      | -1    | -1   | -1   | -1        | -1    | -1      | -1      | -1    | -1    | -1    | -1    | -1    | -1    | -1   | -1   | -1   | -1   | -1   | -1   | -1\n",
       "ABW         | Aruba   | Aruban Guilder | 1951 | -1    | -1    | -1   | -1   | -1   | -1   | -1   | -1   | -1    | -1    | -1   | -1   | -1   | -1    | -1     | -1     | -1    | -1   | -1   | -1     | -1      | -1    | -1   | -1    | -1   | -1     | -1    | -1      | -1    | -1   | -1   | -1        | -1    | -1      | -1      | -1    | -1    | -1    | -1    | -1    | -1    | -1   | -1   | -1   | -1   | -1   | -1   | -1\n",
       "ABW         | Aruba   | Aruban Guilder | 1952 | -1    | -1    | -1   | -1   | -1   | -1   | -1   | -1   | -1    | -1    | -1   | -1   | -1   | -1    | -1     | -1     | -1    | -1   | -1   | -1     | -1      | -1    | -1   | -1    | -1   | -1     | -1    | -1      | -1    | -1   | -1   | -1        | -1    | -1      | -1      | -1    | -1    | -1    | -1    | -1    | -1    | -1   | -1   | -1   | -1   | -1   | -1   | -1\n",
       "ABW         | Aruba   | Aruban Guilder | 1953 | -1    | -1    | -1   | -1   | -1   | -1   | -1   | -1   | -1    | -1    | -1   | -1   | -1   | -1    | -1     | -1     | -1    | -1   | -1   | -1     | -1      | -1    | -1   | -1    | -1   | -1     | -1    | -1      | -1    | -1   | -1   | -1        | -1    | -1      | -1      | -1    | -1    | -1    | -1    | -1    | -1    | -1   | -1   | -1   | -1   | -1   | -1   | -1\n",
       "ABW         | Aruba   | Aruban Guilder | 1954 | -1    | -1    | -1   | -1   | -1   | -1   | -1   | -1   | -1    | -1    | -1   | -1   | -1   | -1    | -1     | -1     | -1    | -1   | -1   | -1     | -1      | -1    | -1   | -1    | -1   | -1     | -1    | -1      | -1    | -1   | -1   | -1        | -1    | -1      | -1      | -1    | -1    | -1    | -1    | -1    | -1    | -1   | -1   | -1   | -1   | -1   | -1   | -1\n",
       "ABW         | Aruba   | Aruban Guilder | 1955 | -1    | -1    | -1   | -1   | -1   | -1   | -1   | -1   | -1    | -1    | -1   | -1   | -1   | -1    | -1     | -1     | -1    | -1   | -1   | -1     | -1      | -1    | -1   | -1    | -1   | -1     | -1    | -1      | -1    | -1   | -1   | -1        | -1    | -1      | -1      | -1    | -1    | -1    | -1    | -1    | -1    | -1   | -1   | -1   | -1   | -1   | -1   | -1\n",
       "ABW         | Aruba   | Aruban Guilder | 1956 | -1    | -1    | -1   | -1   | -1   | -1   | -1   | -1   | -1    | -1    | -1   | -1   | -1   | -1    | -1     | -1     | -1    | -1   | -1   | -1     | -1      | -1    | -1   | -1    | -1   | -1     | -1    | -1      | -1    | -1   | -1   | -1        | -1    | -1      | -1      | -1    | -1    | -1    | -1    | -1    | -1    | -1   | -1   | -1   | -1   | -1   | -1   | -1\n",
       "ABW         | Aruba   | Aruban Guilder | 1957 | -1    | -1    | -1   | -1   | -1   | -1   | -1   | -1   | -1    | -1    | -1   | -1   | -1   | -1    | -1     | -1     | -1    | -1   | -1   | -1     | -1      | -1    | -1   | -1    | -1   | -1     | -1    | -1      | -1    | -1   | -1   | -1        | -1    | -1      | -1      | -1    | -1    | -1    | -1    | -1    | -1    | -1   | -1   | -1   | -1   | -1   | -1   | -1\n",
       "ABW         | Aruba   | Aruban Guilder | 1958 | -1    | -1    | -1   | -1   | -1   | -1   | -1   | -1   | -1    | -1    | -1   | -1   | -1   | -1    | -1     | -1     | -1    | -1   | -1   | -1     | -1      | -1    | -1   | -1    | -1   | -1     | -1    | -1      | -1    | -1   | -1   | -1        | -1    | -1      | -1      | -1    | -1    | -1    | -1    | -1    | -1    | -1   | -1   | -1   | -1   | -1   | -1   | -1\n",
       "ABW         | Aruba   | Aruban Guilder | 1959 | -1    | -1    | -1   | -1   | -1   | -1   | -1   | -1   | -1    | -1    | -1   | -1   | -1   | -1    | -1     | -1     | -1    | -1   | -1   | -1     | -1      | -1    | -1   | -1    | -1   | -1     | -1    | -1      | -1    | -1   | -1   | -1        | -1    | -1      | -1      | -1    | -1    | -1    | -1    | -1    | -1    | -1   | -1   | -1   | -1   | -1   | -1   | -1\n",
       "... (12800 rows omitted)"
      ]
     },
     "execution_count": 128,
     "metadata": {},
     "output_type": "execute_result"
    }
   ],
   "source": [
    "file_name = \"pwt100.csv\"\n",
    "data = to_table(file_name)\n",
    "data"
   ]
  },
  {
   "cell_type": "markdown",
   "metadata": {},
   "source": [
    "Notice that there are a lot of `-1` values. This dataset uses `-1` to indicate missing data for a given country-year combination.\n",
    "\n",
    "To get an idea of the dataset's geographic scope, let us find out what countries are included, and if they are spelled in interesting ways. This will be helpful for us later on in our analysis."
   ]
  },
  {
   "cell_type": "markdown",
   "metadata": {
    "deletable": false,
    "editable": false
   },
   "source": [
    "**Question 1.1:** Create a two-column table called `all_countries`. Its first column will be called `Country` and the second `Earliest Year`. It should contain all of the countries that appear in the `data` table sorted in alphabetical order with the earliest year they appear in the dataset where the `cgdpe` column is not `-1`.\n",
    "\n",
    "Hint: You may want to use `where` and `group`. \n",
    "\n",
    "<!--\n",
    "BEGIN QUESTION\n",
    "name: q1_1\n",
    "-->"
   ]
  },
  {
   "cell_type": "code",
   "execution_count": 129,
   "metadata": {},
   "outputs": [
    {
     "data": {
      "text/html": [
       "<table border=\"1\" class=\"dataframe\">\n",
       "    <thead>\n",
       "        <tr>\n",
       "            <th>Country</th> <th>Earliest Year</th>\n",
       "        </tr>\n",
       "    </thead>\n",
       "    <tbody>\n",
       "        <tr>\n",
       "            <td>Albania            </td> <td>1970         </td>\n",
       "        </tr>\n",
       "        <tr>\n",
       "            <td>Algeria            </td> <td>1960         </td>\n",
       "        </tr>\n",
       "        <tr>\n",
       "            <td>Angola             </td> <td>1970         </td>\n",
       "        </tr>\n",
       "        <tr>\n",
       "            <td>Anguilla           </td> <td>1970         </td>\n",
       "        </tr>\n",
       "        <tr>\n",
       "            <td>Antigua and Barbuda</td> <td>1970         </td>\n",
       "        </tr>\n",
       "        <tr>\n",
       "            <td>Argentina          </td> <td>1950         </td>\n",
       "        </tr>\n",
       "        <tr>\n",
       "            <td>Armenia            </td> <td>1990         </td>\n",
       "        </tr>\n",
       "        <tr>\n",
       "            <td>Aruba              </td> <td>1970         </td>\n",
       "        </tr>\n",
       "        <tr>\n",
       "            <td>Australia          </td> <td>1950         </td>\n",
       "        </tr>\n",
       "        <tr>\n",
       "            <td>Austria            </td> <td>1950         </td>\n",
       "        </tr>\n",
       "    </tbody>\n",
       "</table>\n",
       "<p>... (173 rows omitted)</p>"
      ],
      "text/plain": [
       "Country             | Earliest Year\n",
       "Albania             | 1970\n",
       "Algeria             | 1960\n",
       "Angola              | 1970\n",
       "Anguilla            | 1970\n",
       "Antigua and Barbuda | 1970\n",
       "Argentina           | 1950\n",
       "Armenia             | 1990\n",
       "Aruba               | 1970\n",
       "Australia           | 1950\n",
       "Austria             | 1950\n",
       "... (173 rows omitted)"
      ]
     },
     "execution_count": 129,
     "metadata": {},
     "output_type": "execute_result"
    }
   ],
   "source": [
    "all_countries = data.where('cgdpe', are.not_equal_to(-1)).group('country', lambda x: x[0]).select('country', 'year').relabel('country', 'Country').relabel('year', 'Earliest Year').sort('Country')\n",
    "all_countries"
   ]
  },
  {
   "cell_type": "code",
   "execution_count": 130,
   "metadata": {
    "deletable": false,
    "editable": false
   },
   "outputs": [
    {
     "data": {
      "text/html": [
       "<p><strong><pre style='display: inline;'>q1_1</pre></strong> passed!</p>"
      ],
      "text/plain": [
       "q1_1 results: All test cases passed!"
      ]
     },
     "execution_count": 130,
     "metadata": {},
     "output_type": "execute_result"
    }
   ],
   "source": [
    "grader.check(\"q1_1\")"
   ]
  },
  {
   "cell_type": "markdown",
   "metadata": {},
   "source": [
    "Take a look at ```data``` again. Notice that it has a lot of columns, most of which we won't need. As we will be using the Cobb-Douglas production function, think about what variables are needed in the equation, and which ones are already present in the table. This is an important part of the data science process: understanding the dataset that you are using. Most real-world datasets provide documentation listing the definitions and equations behind each variable. \n",
    "\n",
    "PWT provides this and has identified three variables that will be helpful to us:\n",
    "1. `cn` $\\Rightarrow$ Capital Stock in millions of USD\n",
    "2. `cgdpe` $\\Rightarrow$ Expenditure-side Real GDP in millions of USD\n",
    "3. `emp` $\\Rightarrow$ Number of Persons employed in millions\n",
    "\n",
    "**An important note: for the sake of simplicity, we will be assuming that nations exhibit constant returns to scale.**"
   ]
  },
  {
   "cell_type": "markdown",
   "metadata": {
    "deletable": false,
    "editable": false
   },
   "source": [
    "**Question 1.2:** Without assuming constant return to scale, the Cobb-Douglous Production Function is given by \n",
    "\n",
    "$$ Y = A K^\\alpha L^\\beta $$\n",
    "\n",
    "Which variable in the Cobb-Douglas function represents the following? Fill in the blanks. \n",
    "\n",
    "- $Y$ measures the dollar value of goods and services produced in a country\n",
    "- \\_\\_ measures total factor productivity: how effectively a country uses its inputs in producing output\n",
    "- \\_\\_ measures the amount of capital in a country\n",
    "- \\_\\_ measures the amount of labor in a country\n",
    "- \\_\\_ measures how much emphasis is placed on capital \n",
    "\n",
    "Assign an array of letters corresponding to your answer to `q1_2` below. For example, `q1_2 = make_array('alpha', 'beta', 'K', 'L')`.\n",
    "\n",
    "<!--\n",
    "BEGIN QUESTION\n",
    "name: q1_2\n",
    "points:\n",
    "    - 0\n",
    "    - 0\n",
    "    - 1\n",
    "-->"
   ]
  },
  {
   "cell_type": "code",
   "execution_count": 131,
   "metadata": {},
   "outputs": [],
   "source": [
    "q1_2 = make_array('A', 'K', 'L', 'alpha')"
   ]
  },
  {
   "cell_type": "code",
   "execution_count": 132,
   "metadata": {
    "deletable": false,
    "editable": false
   },
   "outputs": [
    {
     "data": {
      "text/html": [
       "<p><strong><pre style='display: inline;'>q1_2</pre></strong> passed!</p>"
      ],
      "text/plain": [
       "q1_2 results: All test cases passed!"
      ]
     },
     "execution_count": 132,
     "metadata": {},
     "output_type": "execute_result"
    }
   ],
   "source": [
    "grader.check(\"q1_2\")"
   ]
  },
  {
   "cell_type": "markdown",
   "metadata": {},
   "source": [
    "**Again, for the remainder of this project, we will assume nations exhibit constant return to scale, unless otherwise specified.**   \n",
    "**That is, we will have**\n",
    "\n",
    "$$ Y = A K^\\alpha L^{1-\\alpha}$$\n",
    "\n"
   ]
  },
  {
   "cell_type": "markdown",
   "metadata": {
    "deletable": false,
    "editable": false
   },
   "source": [
    "**Question 1.3:**\n",
    "Assign the variable <code>missing_variables</code> to an array containing the Cobb-Douglas function variables that are missing from the dataset.\n",
    "\n",
    "<!--\n",
    "BEGIN QUESTION\n",
    "name: q1_3\n",
    "-->"
   ]
  },
  {
   "cell_type": "code",
   "execution_count": 133,
   "metadata": {},
   "outputs": [],
   "source": [
    "missing_variables = make_array('A', 'alpha')"
   ]
  },
  {
   "cell_type": "code",
   "execution_count": 134,
   "metadata": {
    "deletable": false,
    "editable": false
   },
   "outputs": [
    {
     "data": {
      "text/html": [
       "<p><strong><pre style='display: inline;'>q1_3</pre></strong> passed!</p>"
      ],
      "text/plain": [
       "q1_3 results: All test cases passed!"
      ]
     },
     "execution_count": 134,
     "metadata": {},
     "output_type": "execute_result"
    }
   ],
   "source": [
    "grader.check(\"q1_3\")"
   ]
  },
  {
   "cell_type": "markdown",
   "metadata": {
    "deletable": false,
    "editable": false,
    "tags": [
     "gradable"
    ]
   },
   "source": [
    "**Question 1.4:**\n",
    "Remove all columns from `data` except for `cn`, `cgdpe`, `emp`, `country` and `year`. Ensure that `country` and `year` are the two left-most columns respectively. Call the new table `cleaned_data` and display its first five rows. Rename the `cn` column to `Capital Stock`, `cgdpe` to `Real GDP` and `emp` to `Labor Force`.\n",
    "\n",
    "<!--\n",
    "BEGIN QUESTION\n",
    "name: q1_4\n",
    "-->"
   ]
  },
  {
   "cell_type": "code",
   "execution_count": 135,
   "metadata": {},
   "outputs": [
    {
     "data": {
      "text/html": [
       "<table border=\"1\" class=\"dataframe\">\n",
       "    <thead>\n",
       "        <tr>\n",
       "            <th>country</th> <th>year</th> <th>Capital Stock</th> <th>Real GDP</th> <th>Labor Force</th>\n",
       "        </tr>\n",
       "    </thead>\n",
       "    <tbody>\n",
       "        <tr>\n",
       "            <td>Aruba  </td> <td>1950</td> <td>-1           </td> <td>-1      </td> <td>-1         </td>\n",
       "        </tr>\n",
       "        <tr>\n",
       "            <td>Aruba  </td> <td>1951</td> <td>-1           </td> <td>-1      </td> <td>-1         </td>\n",
       "        </tr>\n",
       "        <tr>\n",
       "            <td>Aruba  </td> <td>1952</td> <td>-1           </td> <td>-1      </td> <td>-1         </td>\n",
       "        </tr>\n",
       "        <tr>\n",
       "            <td>Aruba  </td> <td>1953</td> <td>-1           </td> <td>-1      </td> <td>-1         </td>\n",
       "        </tr>\n",
       "        <tr>\n",
       "            <td>Aruba  </td> <td>1954</td> <td>-1           </td> <td>-1      </td> <td>-1         </td>\n",
       "        </tr>\n",
       "        <tr>\n",
       "            <td>Aruba  </td> <td>1955</td> <td>-1           </td> <td>-1      </td> <td>-1         </td>\n",
       "        </tr>\n",
       "        <tr>\n",
       "            <td>Aruba  </td> <td>1956</td> <td>-1           </td> <td>-1      </td> <td>-1         </td>\n",
       "        </tr>\n",
       "        <tr>\n",
       "            <td>Aruba  </td> <td>1957</td> <td>-1           </td> <td>-1      </td> <td>-1         </td>\n",
       "        </tr>\n",
       "        <tr>\n",
       "            <td>Aruba  </td> <td>1958</td> <td>-1           </td> <td>-1      </td> <td>-1         </td>\n",
       "        </tr>\n",
       "        <tr>\n",
       "            <td>Aruba  </td> <td>1959</td> <td>-1           </td> <td>-1      </td> <td>-1         </td>\n",
       "        </tr>\n",
       "    </tbody>\n",
       "</table>\n",
       "<p>... (12800 rows omitted)</p>"
      ],
      "text/plain": [
       "country | year | Capital Stock | Real GDP | Labor Force\n",
       "Aruba   | 1950 | -1            | -1       | -1\n",
       "Aruba   | 1951 | -1            | -1       | -1\n",
       "Aruba   | 1952 | -1            | -1       | -1\n",
       "Aruba   | 1953 | -1            | -1       | -1\n",
       "Aruba   | 1954 | -1            | -1       | -1\n",
       "Aruba   | 1955 | -1            | -1       | -1\n",
       "Aruba   | 1956 | -1            | -1       | -1\n",
       "Aruba   | 1957 | -1            | -1       | -1\n",
       "Aruba   | 1958 | -1            | -1       | -1\n",
       "Aruba   | 1959 | -1            | -1       | -1\n",
       "... (12800 rows omitted)"
      ]
     },
     "execution_count": 135,
     "metadata": {},
     "output_type": "execute_result"
    }
   ],
   "source": [
    "cleaned_data = data.select('country', 'year', 'cn', 'cgdpe', 'emp').relabel('cn', 'Capital Stock').relabel('cgdpe', 'Real GDP').relabel('emp', 'Labor Force')\n",
    "cleaned_data"
   ]
  },
  {
   "cell_type": "code",
   "execution_count": 136,
   "metadata": {
    "deletable": false,
    "editable": false
   },
   "outputs": [
    {
     "data": {
      "text/html": [
       "<p><strong><pre style='display: inline;'>q1_4</pre></strong> passed!</p>"
      ],
      "text/plain": [
       "q1_4 results: All test cases passed!"
      ]
     },
     "execution_count": 136,
     "metadata": {},
     "output_type": "execute_result"
    }
   ],
   "source": [
    "grader.check(\"q1_4\")"
   ]
  },
  {
   "cell_type": "markdown",
   "metadata": {},
   "source": [
    "Our goal will be to predict what $\\alpha$ and $A$ are for each of the countries that we will be examining. From these, we will be able to explore how output is produced in each of these countries. The question is, how can we use the Cobb-Douglas Production function to solve for the missing variables? An easy way would be to take the natural log of the equation, making it linear, providing us with ways to quantify $\\alpha$ and $A$."
   ]
  },
  {
   "cell_type": "markdown",
   "metadata": {
    "deletable": false,
    "editable": false,
    "tags": [
     "gradable"
    ]
   },
   "source": [
    "<!-- BEGIN QUESTION -->\n",
    "\n",
    "**Question 1.5:**\n",
    "In the cell below, using LaTeX, take the natural log of the Cobb-Douglas Production Function and rewrite it as a **linear function** of one variable. Show all of your work. Full credit will not be given if you just display the final simplified equation without showing any work.\n",
    "\n",
    "_Hint:_ Begin by taking natural log of both sides of the Cobb-Douglas Production Function, that is $\\ln{Y} = \\ln{(A K^\\alpha L^{1-\\alpha})}. $\n",
    "\n",
    "\n",
    "<!--\n",
    "BEGIN QUESTION\n",
    "name: q1_5\n",
    "manual: true\n",
    "-->"
   ]
  },
  {
   "cell_type": "markdown",
   "metadata": {},
   "source": [
    "$\\ln{Y} = \\ln{(AK^\\alpha L^{1-\\alpha})} = \\ln{A} + \\alpha \\ln{K} + (1 - \\alpha) \\ln{L} \\\\ \\ln{Y} = \\ln{A} + \\alpha \\ln{K} + \\ln{L} - \\alpha \\ln{L} \\\\ \\ln{Y} - \\ln{L} = \\ln{A} + \\alpha \\ln{\\frac{K}{L}} \\\\ \\ln{\\frac{Y}{L}}= \\ln{A} + \\alpha \\ln{\\frac{K}{L}} $"
   ]
  },
  {
   "cell_type": "markdown",
   "metadata": {},
   "source": [
    "<!-- END QUESTION -->\n",
    "\n",
    "\n",
    "\n",
    "## Part 2: Exploring the Data"
   ]
  },
  {
   "cell_type": "markdown",
   "metadata": {},
   "source": [
    "Whenever we are dealing with a large dataset like PWT, it is a good idea to see how the variables interact with each other. A common method, especially when dealing with economic data, is to generate a time series. This is a plot of some variable on the $y$-axis and time on the $x$-axis. We are going to do just that for our important Cobb-Douglas variables for different countries."
   ]
  },
  {
   "cell_type": "code",
   "execution_count": 137,
   "metadata": {},
   "outputs": [
    {
     "data": {
      "text/plain": [
       "array(['Albania', 'Algeria', 'Angola', 'Anguilla', 'Antigua and Barbuda',\n",
       "       'Argentina', 'Armenia', 'Aruba', 'Australia', 'Austria',\n",
       "       'Azerbaijan', 'Bahamas', 'Bahrain', 'Bangladesh', 'Barbados',\n",
       "       'Belarus', 'Belgium', 'Belize', 'Benin', 'Bermuda', 'Bhutan',\n",
       "       'Bolivia (Plurinational State of)', 'Bosnia and Herzegovina',\n",
       "       'Botswana', 'Brazil', 'British Virgin Islands',\n",
       "       'Brunei Darussalam', 'Bulgaria', 'Burkina Faso', 'Burundi',\n",
       "       'Cabo Verde', 'Cambodia', 'Cameroon', 'Canada', 'Cayman Islands',\n",
       "       'Central African Republic', 'Chad', 'Chile', 'China',\n",
       "       'China, Hong Kong SAR', 'China, Macao SAR', 'Colombia', 'Comoros',\n",
       "       'Congo', 'Costa Rica', 'Croatia', 'Curaçao', 'Cyprus',\n",
       "       'Czech Republic', \"Côte d'Ivoire\", 'D.R. of the Congo', 'Denmark',\n",
       "       'Djibouti', 'Dominica', 'Dominican Republic', 'Ecuador', 'Egypt',\n",
       "       'El Salvador', 'Equatorial Guinea', 'Estonia', 'Eswatini',\n",
       "       'Ethiopia', 'Fiji', 'Finland', 'France', 'Gabon', 'Gambia',\n",
       "       'Georgia', 'Germany', 'Ghana', 'Greece', 'Grenada', 'Guatemala',\n",
       "       'Guinea', 'Guinea-Bissau', 'Guyana', 'Haiti', 'Honduras',\n",
       "       'Hungary', 'Iceland', 'India', 'Indonesia',\n",
       "       'Iran (Islamic Republic of)', 'Iraq', 'Ireland', 'Israel', 'Italy',\n",
       "       'Jamaica', 'Japan', 'Jordan', 'Kazakhstan', 'Kenya', 'Kuwait',\n",
       "       'Kyrgyzstan', \"Lao People's DR\", 'Latvia', 'Lebanon', 'Lesotho',\n",
       "       'Liberia', 'Lithuania', 'Luxembourg', 'Madagascar', 'Malawi',\n",
       "       'Malaysia', 'Maldives', 'Mali', 'Malta', 'Mauritania', 'Mauritius',\n",
       "       'Mexico', 'Mongolia', 'Montenegro', 'Montserrat', 'Morocco',\n",
       "       'Mozambique', 'Myanmar', 'Namibia', 'Nepal', 'Netherlands',\n",
       "       'New Zealand', 'Nicaragua', 'Niger', 'Nigeria', 'North Macedonia',\n",
       "       'Norway', 'Oman', 'Pakistan', 'Panama', 'Paraguay', 'Peru',\n",
       "       'Philippines', 'Poland', 'Portugal', 'Qatar', 'Republic of Korea',\n",
       "       'Republic of Moldova', 'Romania', 'Russian Federation', 'Rwanda',\n",
       "       'Saint Kitts and Nevis', 'Saint Lucia', 'Sao Tome and Principe',\n",
       "       'Saudi Arabia', 'Senegal', 'Serbia', 'Seychelles', 'Sierra Leone',\n",
       "       'Singapore', 'Sint Maarten (Dutch part)', 'Slovakia', 'Slovenia',\n",
       "       'South Africa', 'Spain', 'Sri Lanka',\n",
       "       'St. Vincent and the Grenadines', 'State of Palestine', 'Sudan',\n",
       "       'Suriname', 'Sweden', 'Switzerland', 'Syrian Arab Republic',\n",
       "       'Taiwan', 'Tajikistan', 'Thailand', 'Togo', 'Trinidad and Tobago',\n",
       "       'Tunisia', 'Turkey', 'Turkmenistan', 'Turks and Caicos Islands',\n",
       "       'U.R. of Tanzania: Mainland', 'Uganda', 'Ukraine',\n",
       "       'United Arab Emirates', 'United Kingdom', 'United States',\n",
       "       'Uruguay', 'Uzbekistan', 'Venezuela (Bolivarian Republic of)',\n",
       "       'Viet Nam', 'Yemen', 'Zambia', 'Zimbabwe'], dtype='<U34')"
      ]
     },
     "execution_count": 137,
     "metadata": {},
     "output_type": "execute_result"
    }
   ],
   "source": [
    "# Run this cell to see a table of all the countries in the dataset.\n",
    "# Select two countries and proceed to the next code question.\n",
    "all_countries[\"Country\"]"
   ]
  },
  {
   "cell_type": "markdown",
   "metadata": {
    "deletable": false,
    "editable": false,
    "tags": [
     "gradable"
    ]
   },
   "source": [
    "**Question 2.1:**\n",
    "1. Create an array of four countries, the US, China, and two of your choice from the list above, in **alphabetical order** and call this `country_array`.\n",
    "2. Using this array, construct `comparison_data`, a table containing GDP, Capital Stock and Labor for these four countries in `country_array` from 1990 to 2019. \n",
    "\n",
    "_Use the cell above to check if your countries of choice exist in the dataset._ Make sure to use the country name exactly as it appears in the data table.\n",
    "\n",
    "_Hint:_ Look at the <a href=\"https://ds-connectors.github.io/econ-fa20/python-reference.html\">Python Reference</a> for a table function you can use.\n",
    "\n",
    "<!--\n",
    "BEGIN QUESTION\n",
    "name: q2_1\n",
    "-->"
   ]
  },
  {
   "cell_type": "code",
   "execution_count": 138,
   "metadata": {},
   "outputs": [],
   "source": [
    "country_array = make_array('Belgium', \"China\", 'Japan', \"United States\")\n",
    "comparison_data = cleaned_data.where('country', are.contained_in(country_array)).where('year', are.between(1990, 2020))"
   ]
  },
  {
   "cell_type": "code",
   "execution_count": 139,
   "metadata": {
    "deletable": false,
    "editable": false
   },
   "outputs": [
    {
     "data": {
      "text/html": [
       "<p><strong><pre style='display: inline;'>q2_1</pre></strong> passed!</p>"
      ],
      "text/plain": [
       "q2_1 results: All test cases passed!"
      ]
     },
     "execution_count": 139,
     "metadata": {},
     "output_type": "execute_result"
    }
   ],
   "source": [
    "grader.check(\"q2_1\")"
   ]
  },
  {
   "cell_type": "markdown",
   "metadata": {},
   "source": [
    "**Note:** If you ever need to refer to a list of the countries you selected in your code, do **not** use `country_array`. When you place the data in `comparison_data`, Python will automatically re-order the countries. Using `country_array` will cause a mis-match between your rows of data in `comparison_data` and the country it is actually from."
   ]
  },
  {
   "cell_type": "markdown",
   "metadata": {
    "deletable": false,
    "editable": false,
    "tags": [
     "gradable"
    ]
   },
   "source": [
    "<!-- BEGIN QUESTION -->\n",
    "\n",
    "**Question 2.2:**\n",
    "To help us in later questions, fill in the blanks in the `country_table_plotter` function below. Its inputs will be a table of the form `comparison_data` and the names of the two columns plotted, `columnX` and `columnY`. The `country_table_plotter` function will plot `columnX` versus `columnY` using data from `data_table` for all the countries \n",
    "\n",
    "_Hint:_ Look at the <a href=\"https://matplotlib.org/3.1.1/api/_as_gen/matplotlib.pyplot.plot.html\"> Matplotlib Plotting Reference</a> for ideas of what to place in the blanks.\n",
    "\n",
    "<!--\n",
    "BEGIN QUESTION\n",
    "name: q2_2\n",
    "manual: true\n",
    "-->"
   ]
  },
  {
   "cell_type": "code",
   "execution_count": 140,
   "metadata": {},
   "outputs": [],
   "source": [
    "def country_table_plotter(data_table, columnX, columnY):\n",
    "    \n",
    "    countries = np.unique(data_table['country'])\n",
    "    for country in countries:\n",
    "        current_country_table = data_table.where('country', country)\n",
    "        plt.plot(current_country_table[columnX], current_country_table[columnY], label = country, linewidth = 1.5)\n",
    "    \n",
    "    ### Do not change the code below ###\n",
    "    plt.legend(loc='center left', bbox_to_anchor=(1, 0.5), fontsize = 'x-large')\n",
    "    plt.xlabel(columnX)\n",
    "    plt.ylabel(f\"{columnY} (Logarithmic Scale)\")\n",
    "    plt.grid()\n",
    "    plt.yscale(\"log\")\n",
    "    \n",
    "    return countries, columnX, columnY"
   ]
  },
  {
   "cell_type": "markdown",
   "metadata": {
    "deletable": false,
    "editable": false,
    "tags": [
     "gradable"
    ]
   },
   "source": [
    "<!-- END QUESTION -->\n",
    "\n",
    "**Question 2.3:**\n",
    "Produce a plot of time and capital stock for the countries in your table.\n",
    "\n",
    "<!--\n",
    "BEGIN QUESTION\n",
    "name: q2_3\n",
    "points:\n",
    "    - 0\n",
    "    - 0\n",
    "    - 1\n",
    "-->"
   ]
  },
  {
   "cell_type": "code",
   "execution_count": 141,
   "metadata": {
    "tags": [
     "gradable"
    ]
   },
   "outputs": [
    {
     "data": {
      "image/png": "[encoded data removed]",
      "text/plain": [
       "<Figure size 800x550 with 1 Axes>"
      ]
     },
     "metadata": {},
     "output_type": "display_data"
    }
   ],
   "source": [
    "q2_3 = country_table_plotter(comparison_data, 'year', 'Capital Stock')"
   ]
  },
  {
   "cell_type": "code",
   "execution_count": 142,
   "metadata": {
    "deletable": false,
    "editable": false
   },
   "outputs": [
    {
     "data": {
      "text/html": [
       "<p><strong><pre style='display: inline;'>q2_3</pre></strong> passed!</p>"
      ],
      "text/plain": [
       "q2_3 results: All test cases passed!"
      ]
     },
     "execution_count": 142,
     "metadata": {},
     "output_type": "execute_result"
    }
   ],
   "source": [
    "grader.check(\"q2_3\")"
   ]
  },
  {
   "cell_type": "markdown",
   "metadata": {
    "deletable": false,
    "editable": false
   },
   "source": [
    "<!-- BEGIN QUESTION -->\n",
    "\n",
    "**Question 2.4:**\n",
    "Identify differences between the countries in your plot above and discuss what surprised you.\n",
    "\n",
    "<!--\n",
    "BEGIN QUESTION\n",
    "name: q2_4\n",
    "manual: true\n",
    "-->"
   ]
  },
  {
   "cell_type": "markdown",
   "metadata": {},
   "source": [
    "In the plot above, US has been leader of Capital Stock for most of the time between 1950 to 2020, while China has the greatest growth rate and surpassed the US after 2010. On the other hand, Japan has the biggest fluctuation across years and Belgium's remained steady. What surprises me is that China's Capital Stock has already surpassed the US about ten years ago."
   ]
  },
  {
   "cell_type": "markdown",
   "metadata": {
    "deletable": false,
    "editable": false,
    "tags": [
     "gradable"
    ]
   },
   "source": [
    "<!-- END QUESTION -->\n",
    "\n",
    "**Question 2.5:**\n",
    "Produce a similar plot, but this time of time and labor for the countries in your table.\n",
    "\n",
    "<!--\n",
    "BEGIN QUESTION\n",
    "name: q2_5\n",
    "points:\n",
    "    - 0\n",
    "    - 0\n",
    "    - 1\n",
    "-->"
   ]
  },
  {
   "cell_type": "code",
   "execution_count": 143,
   "metadata": {},
   "outputs": [
    {
     "data": {
      "image/png": "[encoded data removed]",
      "text/plain": [
       "<Figure size 800x550 with 1 Axes>"
      ]
     },
     "metadata": {},
     "output_type": "display_data"
    }
   ],
   "source": [
    "q2_5 = country_table_plotter(comparison_data, 'year', 'Labor Force')"
   ]
  },
  {
   "cell_type": "code",
   "execution_count": 144,
   "metadata": {
    "deletable": false,
    "editable": false
   },
   "outputs": [
    {
     "data": {
      "text/html": [
       "<p><strong><pre style='display: inline;'>q2_5</pre></strong> passed!</p>"
      ],
      "text/plain": [
       "q2_5 results: All test cases passed!"
      ]
     },
     "execution_count": 144,
     "metadata": {},
     "output_type": "execute_result"
    }
   ],
   "source": [
    "grader.check(\"q2_5\")"
   ]
  },
  {
   "cell_type": "markdown",
   "metadata": {
    "deletable": false,
    "editable": false
   },
   "source": [
    "<!-- BEGIN QUESTION -->\n",
    "\n",
    "**Question 2.6:**\n",
    "Identify differences between the countries in your plot above and discuss what surprised you.\n",
    "\n",
    "<!--\n",
    "BEGIN QUESTION\n",
    "name: q2_6\n",
    "manual: true\n",
    "-->"
   ]
  },
  {
   "cell_type": "markdown",
   "metadata": {},
   "source": [
    "For plot above, Belgium has far less labor force compared to the other three. The labor force has remained steady for all four countries from 1950 to 2020. What surprised me is that compared to other three countries, though China has the largest Labor Force base, it also has the highest Labor Force growth rate."
   ]
  },
  {
   "cell_type": "markdown",
   "metadata": {
    "deletable": false,
    "editable": false,
    "tags": [
     "gradable"
    ]
   },
   "source": [
    "<!-- END QUESTION -->\n",
    "\n",
    "**Question 2.7:**\n",
    "Create a plot of time and GDP for the countries in your table.\n",
    "\n",
    "<!--\n",
    "BEGIN QUESTION\n",
    "name: q2_7\n",
    "points:\n",
    "    - 0\n",
    "    - 0\n",
    "    - 1\n",
    "-->"
   ]
  },
  {
   "cell_type": "code",
   "execution_count": 145,
   "metadata": {},
   "outputs": [
    {
     "data": {
      "image/png": "[encoded data removed]",
      "text/plain": [
       "<Figure size 800x550 with 1 Axes>"
      ]
     },
     "metadata": {},
     "output_type": "display_data"
    }
   ],
   "source": [
    "q2_7 = country_table_plotter(comparison_data, 'year', 'Real GDP')"
   ]
  },
  {
   "cell_type": "code",
   "execution_count": 146,
   "metadata": {
    "deletable": false,
    "editable": false
   },
   "outputs": [
    {
     "data": {
      "text/html": [
       "<p><strong><pre style='display: inline;'>q2_7</pre></strong> passed!</p>"
      ],
      "text/plain": [
       "q2_7 results: All test cases passed!"
      ]
     },
     "execution_count": 146,
     "metadata": {},
     "output_type": "execute_result"
    }
   ],
   "source": [
    "grader.check(\"q2_7\")"
   ]
  },
  {
   "cell_type": "markdown",
   "metadata": {
    "deletable": false,
    "editable": false
   },
   "source": [
    "<!-- BEGIN QUESTION -->\n",
    "\n",
    "**Question 2.8:**\n",
    "Using your knowledge of the Cobb-Douglas Production Function, identify differences between the countries and discuss these in relation to your findings about each of the country's levels of capital stock and labor. Also note about how these have changed over time, if at all.\n",
    "\n",
    "<!--\n",
    "BEGIN QUESTION\n",
    "name: q2_8\n",
    "manual: true\n",
    "-->"
   ]
  },
  {
   "cell_type": "markdown",
   "metadata": {},
   "source": [
    "While the Labor Force remianed steady for all of the four countries, the GDP growth from 1950 to 2020 has genereally the same tendency as the Capital Stock of each country. China has the highest Capital Stock growth rate and so does the GDP growth rate. This is with accordance to the Cobb-Douglas Function since it shows that GDP is positively related to Labor Force and Capital Stock. While Labor Force growth rate remained stable, the Capital Stock growth rate would determine the GDP growth rate."
   ]
  },
  {
   "cell_type": "markdown",
   "metadata": {},
   "source": [
    "<!-- END QUESTION -->\n",
    "\n",
    "\n",
    "\n",
    "## Part 3: Prediction and Comparison"
   ]
  },
  {
   "cell_type": "markdown",
   "metadata": {},
   "source": [
    "We are now going to provide numerical backing to your discussions of differences between the nations. We will predict values for $\\alpha$ and $A$ for each of the 4 countries that we are examining. To do this, we will revisit the equation that you derived in question 1.4. "
   ]
  },
  {
   "cell_type": "markdown",
   "metadata": {
    "deletable": false,
    "editable": false,
    "tags": [
     "gradable"
    ]
   },
   "source": [
    "**Question 3.1:**\n",
    "A key step in the original paper by Cobb and Douglas was that they converted the data into an index. This is important because the data is measured in different units. Do this for each country and each of the variables in `comparison_data`. Let the 2011 value for each variable in each country be the base year, i.e. 100. Place this in a new table called `indexed_data` together with `country` and `year` columns.\n",
    "\n",
    "_Hint:_ The formula for calculating an index is as follows:\n",
    "$$\n",
    "\\dfrac{Q_{\\text{current year}}}{Q_{\\text{base year}}} \\cdot 100 \\, \\text{ for some variable } Q\n",
    "$$\n",
    "\n",
    "<!--\n",
    "BEGIN QUESTION\n",
    "name: q3_1\n",
    "points:\n",
    "    - 0\n",
    "    - 0\n",
    "    - 0.1\n",
    "    - 0.3\n",
    "    - 0.3\n",
    "    - 0.3\n",
    "-->"
   ]
  },
  {
   "cell_type": "code",
   "execution_count": 147,
   "metadata": {
    "tags": [
     "gradable"
    ]
   },
   "outputs": [
    {
     "data": {
      "text/html": [
       "<table border=\"1\" class=\"dataframe\">\n",
       "    <thead>\n",
       "        <tr>\n",
       "            <th>country</th> <th>year</th> <th>Indexed K</th> <th>Indexed L</th> <th>Indexed Y</th>\n",
       "        </tr>\n",
       "    </thead>\n",
       "    <tbody>\n",
       "        <tr>\n",
       "            <td>Belgium</td> <td>1990</td> <td>39.9229  </td> <td>85.0091  </td> <td>54.8105  </td>\n",
       "        </tr>\n",
       "        <tr>\n",
       "            <td>Belgium</td> <td>1991</td> <td>42.3963  </td> <td>85.2596  </td> <td>55.9118  </td>\n",
       "        </tr>\n",
       "        <tr>\n",
       "            <td>Belgium</td> <td>1992</td> <td>44.8284  </td> <td>85.1308  </td> <td>57.7889  </td>\n",
       "        </tr>\n",
       "        <tr>\n",
       "            <td>Belgium</td> <td>1993</td> <td>47.1063  </td> <td>84.5879  </td> <td>57.9241  </td>\n",
       "        </tr>\n",
       "        <tr>\n",
       "            <td>Belgium</td> <td>1994</td> <td>49.0331  </td> <td>84.2842  </td> <td>59.6385  </td>\n",
       "        </tr>\n",
       "        <tr>\n",
       "            <td>Belgium</td> <td>1995</td> <td>50.7192  </td> <td>85.5767  </td> <td>61.2377  </td>\n",
       "        </tr>\n",
       "        <tr>\n",
       "            <td>Belgium</td> <td>1996</td> <td>51.2733  </td> <td>85.8195  </td> <td>61.0745  </td>\n",
       "        </tr>\n",
       "        <tr>\n",
       "            <td>Belgium</td> <td>1997</td> <td>50.8537  </td> <td>86.3258  </td> <td>64.8499  </td>\n",
       "        </tr>\n",
       "        <tr>\n",
       "            <td>Belgium</td> <td>1998</td> <td>50.9372  </td> <td>87.7684  </td> <td>67.0889  </td>\n",
       "        </tr>\n",
       "        <tr>\n",
       "            <td>Belgium</td> <td>1999</td> <td>51.9864  </td> <td>88.9299  </td> <td>70.234   </td>\n",
       "        </tr>\n",
       "    </tbody>\n",
       "</table>\n",
       "<p>... (110 rows omitted)</p>"
      ],
      "text/plain": [
       "country | year | Indexed K | Indexed L | Indexed Y\n",
       "Belgium | 1990 | 39.9229   | 85.0091   | 54.8105\n",
       "Belgium | 1991 | 42.3963   | 85.2596   | 55.9118\n",
       "Belgium | 1992 | 44.8284   | 85.1308   | 57.7889\n",
       "Belgium | 1993 | 47.1063   | 84.5879   | 57.9241\n",
       "Belgium | 1994 | 49.0331   | 84.2842   | 59.6385\n",
       "Belgium | 1995 | 50.7192   | 85.5767   | 61.2377\n",
       "Belgium | 1996 | 51.2733   | 85.8195   | 61.0745\n",
       "Belgium | 1997 | 50.8537   | 86.3258   | 64.8499\n",
       "Belgium | 1998 | 50.9372   | 87.7684   | 67.0889\n",
       "Belgium | 1999 | 51.9864   | 88.9299   | 70.234\n",
       "... (110 rows omitted)"
      ]
     },
     "execution_count": 147,
     "metadata": {},
     "output_type": "execute_result"
    }
   ],
   "source": [
    "# We need to sort comparison_data in alphabetical order because the countries array is in alphabetical order\n",
    "comparison_data = comparison_data.sort('country')\n",
    "\n",
    "base_values = comparison_data.where('year', are.equal_to(2011))\n",
    "countries = np.unique(comparison_data['country'])\n",
    "indexed_Ks = make_array()\n",
    "indexed_Ls = make_array()\n",
    "indexed_Ys = make_array()\n",
    "\n",
    "for country in countries:\n",
    "    indexed_Ks = np.append(indexed_Ks, ((comparison_data.where('country', are.equal_to(country))['Capital Stock'] / base_values.where('country', are.equal_to(country))['Capital Stock']) * 100))\n",
    "    indexed_Ls = np.append(indexed_Ls, ((comparison_data.where('country', are.equal_to(country))['Labor Force'] / base_values.where('country', are.equal_to(country))['Labor Force']) * 100))\n",
    "    indexed_Ys = np.append(indexed_Ys, ((comparison_data.where('country', are.equal_to(country))['Real GDP'] / base_values.where('country', are.equal_to(country))['Real GDP']) * 100))\n",
    "    \n",
    "indexed_data = Table().with_columns(\n",
    "    \"country\", comparison_data['country'],\n",
    "    \"year\", comparison_data['year'],\n",
    "    \"Indexed K\", indexed_Ks,\n",
    "    \"Indexed L\", indexed_Ls,\n",
    "    \"Indexed Y\", indexed_Ys,\n",
    ")\n",
    "\n",
    "indexed_data"
   ]
  },
  {
   "cell_type": "code",
   "execution_count": 148,
   "metadata": {
    "deletable": false,
    "editable": false
   },
   "outputs": [
    {
     "data": {
      "text/html": [
       "<p><strong><pre style='display: inline;'>q3_1</pre></strong> passed!</p>"
      ],
      "text/plain": [
       "q3_1 results: All test cases passed!"
      ]
     },
     "execution_count": 148,
     "metadata": {},
     "output_type": "execute_result"
    }
   ],
   "source": [
    "grader.check(\"q3_1\")"
   ]
  },
  {
   "cell_type": "markdown",
   "metadata": {
    "deletable": false,
    "editable": false,
    "tags": [
     "gradable"
    ]
   },
   "source": [
    "**Question 3.2:**\n",
    "Using the equation you derived in Part 1 and the `indexed_data` table, calculate the two log ratios that you need to perform linear regression. Place them in the table `log_ratios` with `country` and `year` as the two leftmost columns respectively. The `log_ratios` table should have 4 columns: `country`, `year`, `ln(Y/L)`, and `ln(K/L)`.\n",
    "\n",
    "<!--\n",
    "BEGIN QUESTION\n",
    "name: q3_2\n",
    "-->"
   ]
  },
  {
   "cell_type": "code",
   "execution_count": 161,
   "metadata": {},
   "outputs": [
    {
     "data": {
      "text/html": [
       "<table border=\"1\" class=\"dataframe\">\n",
       "    <thead>\n",
       "        <tr>\n",
       "            <th>country</th> <th>year</th> <th>ln(Y/L)</th> <th>ln(K/L)</th>\n",
       "        </tr>\n",
       "    </thead>\n",
       "    <tbody>\n",
       "        <tr>\n",
       "            <td>Belgium</td> <td>1990</td> <td>-0.438877</td> <td>-0.755808</td>\n",
       "        </tr>\n",
       "        <tr>\n",
       "            <td>Belgium</td> <td>1991</td> <td>-0.421924</td> <td>-0.69864 </td>\n",
       "        </tr>\n",
       "        <tr>\n",
       "            <td>Belgium</td> <td>1992</td> <td>-0.387393</td> <td>-0.641347</td>\n",
       "        </tr>\n",
       "        <tr>\n",
       "            <td>Belgium</td> <td>1993</td> <td>-0.378657</td> <td>-0.585384</td>\n",
       "        </tr>\n",
       "        <tr>\n",
       "            <td>Belgium</td> <td>1994</td> <td>-0.345894</td> <td>-0.5417  </td>\n",
       "        </tr>\n",
       "        <tr>\n",
       "            <td>Belgium</td> <td>1995</td> <td>-0.33465 </td> <td>-0.523109</td>\n",
       "        </tr>\n",
       "        <tr>\n",
       "            <td>Belgium</td> <td>1996</td> <td>-0.340151</td> <td>-0.515076</td>\n",
       "        </tr>\n",
       "        <tr>\n",
       "            <td>Belgium</td> <td>1997</td> <td>-0.286053</td> <td>-0.529174</td>\n",
       "        </tr>\n",
       "        <tr>\n",
       "            <td>Belgium</td> <td>1998</td> <td>-0.268682</td> <td>-0.544107</td>\n",
       "        </tr>\n",
       "        <tr>\n",
       "            <td>Belgium</td> <td>1999</td> <td>-0.236016</td> <td>-0.536867</td>\n",
       "        </tr>\n",
       "    </tbody>\n",
       "</table>\n",
       "<p>... (110 rows omitted)</p>"
      ],
      "text/plain": [
       "country | year | ln(Y/L)   | ln(K/L)\n",
       "Belgium | 1990 | -0.438877 | -0.755808\n",
       "Belgium | 1991 | -0.421924 | -0.69864\n",
       "Belgium | 1992 | -0.387393 | -0.641347\n",
       "Belgium | 1993 | -0.378657 | -0.585384\n",
       "Belgium | 1994 | -0.345894 | -0.5417\n",
       "Belgium | 1995 | -0.33465  | -0.523109\n",
       "Belgium | 1996 | -0.340151 | -0.515076\n",
       "Belgium | 1997 | -0.286053 | -0.529174\n",
       "Belgium | 1998 | -0.268682 | -0.544107\n",
       "Belgium | 1999 | -0.236016 | -0.536867\n",
       "... (110 rows omitted)"
      ]
     },
     "execution_count": 161,
     "metadata": {},
     "output_type": "execute_result"
    }
   ],
   "source": [
    "log_ratios = indexed_data.select('country', 'year').with_columns('ln(Y/L)', np.log(indexed_data['Indexed Y'] / indexed_data['Indexed L']),\n",
    "                                                                 'ln(K/L)', np.log(indexed_data['Indexed K'] / indexed_data['Indexed L']))\n",
    "log_ratios"
   ]
  },
  {
   "cell_type": "code",
   "execution_count": 162,
   "metadata": {
    "deletable": false,
    "editable": false
   },
   "outputs": [
    {
     "data": {
      "text/html": [
       "<p><strong><pre style='display: inline;'>q3_2</pre></strong> passed!</p>"
      ],
      "text/plain": [
       "q3_2 results: All test cases passed!"
      ]
     },
     "execution_count": 162,
     "metadata": {},
     "output_type": "execute_result"
    }
   ],
   "source": [
    "grader.check(\"q3_2\")"
   ]
  },
  {
   "cell_type": "markdown",
   "metadata": {},
   "source": [
    "The function `country_table_scatter` defined below takes in a data table, $x$ column label, and $y$ column label and plots these columns as against each other for each country in `data_table`."
   ]
  },
  {
   "cell_type": "code",
   "execution_count": 164,
   "metadata": {},
   "outputs": [],
   "source": [
    "def country_table_scatter(data_table, columnX, columnY):\n",
    "    # First getting a list of all the countries in data_table\n",
    "    country_list = data_table.group(\"country\").column(\"country\")\n",
    "    \n",
    "    # For each country, creating a scatter plot of columnX vs. columnY\n",
    "    for country in country_list:\n",
    "        curr_data_table = data_table.where(\"country\", country)\n",
    "        curr_data_table.scatter(columnX, columnY)\n",
    "        plt.title(country)\n",
    "        plt.grid()"
   ]
  },
  {
   "cell_type": "markdown",
   "metadata": {
    "deletable": false,
    "editable": false,
    "tags": [
     "gradable"
    ]
   },
   "source": [
    "<!-- BEGIN QUESTION -->\n",
    "\n",
    "**Question 3.3:**\n",
    "Using the `country_table_scatter` function provided, plot the log ratios for each country from the `log_ratios` table below.\n",
    "\n",
    "<!--\n",
    "BEGIN QUESTION\n",
    "name: q3_3\n",
    "manual: true\n",
    "-->"
   ]
  },
  {
   "cell_type": "code",
   "execution_count": 165,
   "metadata": {
    "scrolled": true
   },
   "outputs": [
    {
     "data": {
      "image/png": "[encoded data removed]",
      "text/plain": [
       "<Figure size 500x500 with 1 Axes>"
      ]
     },
     "metadata": {},
     "output_type": "display_data"
    },
    {
     "data": {
      "image/png": "[encoded data removed]",
      "text/plain": [
       "<Figure size 500x500 with 1 Axes>"
      ]
     },
     "metadata": {},
     "output_type": "display_data"
    },
    {
     "data": {
      "image/png": "[encoded data removed]",
      "text/plain": [
       "<Figure size 500x500 with 1 Axes>"
      ]
     },
     "metadata": {},
     "output_type": "display_data"
    },
    {
     "data": {
      "image/png": "[encoded data removed]",
      "text/plain": [
       "<Figure size 500x500 with 1 Axes>"
      ]
     },
     "metadata": {},
     "output_type": "display_data"
    }
   ],
   "source": [
    "country_table_scatter(log_ratios, 'ln(K/L)', 'ln(Y/L)')"
   ]
  },
  {
   "cell_type": "markdown",
   "metadata": {
    "deletable": false,
    "editable": false
   },
   "source": [
    "<!-- END QUESTION -->\n",
    "\n",
    "<!-- BEGIN QUESTION -->\n",
    "\n",
    "**Extra Credit Question:**\n",
    "What do you notice about the scatter plot for the US? What could be a possible reason for this?\n",
    "\n",
    "<!--\n",
    "BEGIN QUESTION\n",
    "name: ec1\n",
    "manual: true\n",
    "-->"
   ]
  },
  {
   "cell_type": "markdown",
   "metadata": {},
   "source": [
    "The ln(Y/L) is generally posively related to ln(K/L) for the US, however, there are several points at $\\ln(K/L) = 0$ with different $\\ln(Y/L)$ level. The reason for this might be that the total productivity function A has increased as the techonology advanced; thus, at the same level of $K$ input would result in higher output $Y$."
   ]
  },
  {
   "cell_type": "markdown",
   "metadata": {},
   "source": [
    "<!-- END QUESTION -->\n",
    "\n",
    "\n",
    "\n",
    "To help you compare, the code below will plot all of the scatter plots on the same axis. Remember, the axes are in terms of logarithms. Thus, even small differences in slope or intercepts would yield big changes."
   ]
  },
  {
   "cell_type": "code",
   "execution_count": 166,
   "metadata": {},
   "outputs": [
    {
     "data": {
      "image/png": "[encoded data removed]",
      "text/plain": [
       "<Figure size 800x550 with 1 Axes>"
      ]
     },
     "metadata": {},
     "output_type": "display_data"
    }
   ],
   "source": [
    "all_scatter(log_ratios, \"ln(K/L)\", \"ln(Y/L)\")"
   ]
  },
  {
   "cell_type": "markdown",
   "metadata": {},
   "source": [
    "Now, we want to make a linear approximation of the curves above. How will we do this? Through linear regression.\n",
    "\n",
    "We will be using NumPy's `polyfit` function to get the $\\alpha$ and $A$ values for each country. You will learn more about linear regression later in Data 8, but think of it as fitting a line to a set of data points. The polyfit function would return the slope and intercept of such a line. Here is the link to the documentation of the <a href = \"https://numpy.org/doc/1.18/reference/generated/numpy.polyfit.html\"> function</a>: \n",
    "\n",
    "Let us break down how this function works by taking a look at the examples section of the documentation:\n",
    "\n",
    "```python\n",
    "import numpy as np\n",
    "x = np.array([0.0, 1.0, 2.0, 3.0,  4.0,  5.0])\n",
    "y = np.array([0.0, 0.8, 0.9, 1.0, 2.0, 3.0])\n",
    "model = np.polyfit(x, y, 1)\n",
    "```\n",
    "\n",
    "The first argument to `np.polyfit()` is the array of data $x$, the second argument contains the values we wish to estimate $y$. The last argument specifies the degree of the polynomial we wish to use. A 1-degree polynomial takes the following form: $y = a+ b x$. A 2-degree polynomial looks like this: $y = a + bx + cx^2$.\n",
    "\n",
    "`np.polyfit()` returns an array of the coefficients of the linear regression line. A degree 1 polynomial would contain two elements. A degree 2 polynomial would contain three elements. Let's look at the structure of the array:\n",
    "\n",
    "```python\n",
    ">>> model\n",
    "array([ 0.53428571, -0.05238095])\n",
    ">>> model.item(0) # The slope term\n",
    "0.53428571\n",
    ">>> model.item(1) # The intercept term\n",
    "-0.05238095\n",
    "```\n",
    "\n",
    "From this, we can construct the equation of the regression line as a function of $x$: $y = -0.05238095 + 0.53428571x$. \n",
    "\n",
    "Take a look at the derivation for the Cobb-Douglas production function we did in Part 1 and think about what kind of polynomial we want to fit on our data."
   ]
  },
  {
   "cell_type": "markdown",
   "metadata": {
    "deletable": false,
    "editable": false,
    "tags": [
     "gradable"
    ]
   },
   "source": [
    "**Question 3.4:**\n",
    "Using `np.polyfit`, fit the data taken from each country. \n",
    "\n",
    "_Hint:_ Fill in the `<country>_x` and `<country>_y` arrays to make your life easier. You will need to call `np.polyfit` four times (once for each country).\n",
    "\n",
    "<!--\n",
    "BEGIN QUESTION\n",
    "name: q3_4\n",
    "-->"
   ]
  },
  {
   "cell_type": "code",
   "execution_count": 167,
   "metadata": {
    "scrolled": true
   },
   "outputs": [],
   "source": [
    "# Create arrays of the data we will need from each country.\n",
    "# Think about which variable should be on each axis.\n",
    "\n",
    "china_x = log_ratios.where('country', are.equal_to('China'))['ln(K/L)']\n",
    "china_y = log_ratios.where('country', are.equal_to('China'))['ln(Y/L)']\n",
    "us_x = log_ratios.where('country', are.equal_to('United States'))['ln(K/L)']\n",
    "us_y = log_ratios.where('country', are.equal_to('United States'))['ln(Y/L)']\n",
    "country1_x = log_ratios.where('country', are.equal_to('Japan'))['ln(K/L)']\n",
    "country1_y = log_ratios.where('country', are.equal_to('Japan'))['ln(Y/L)']\n",
    "country2_x = log_ratios.where('country', are.equal_to('Belgium'))['ln(K/L)']\n",
    "country2_y = log_ratios.where('country', are.equal_to('Belgium'))['ln(Y/L)']\n",
    "\n",
    "model_china = np.polyfit(china_x, china_y, 1)\n",
    "model_us = np.polyfit(us_x, us_y, 1)\n",
    "model_country1 = np.polyfit(country1_x, country1_y, 1)\n",
    "model_country2 = np.polyfit(country2_x, country2_y, 1)"
   ]
  },
  {
   "cell_type": "code",
   "execution_count": 168,
   "metadata": {
    "deletable": false,
    "editable": false
   },
   "outputs": [
    {
     "data": {
      "text/html": [
       "<p><strong><pre style='display: inline;'>q3_4</pre></strong> passed!</p>"
      ],
      "text/plain": [
       "q3_4 results: All test cases passed!"
      ]
     },
     "execution_count": 168,
     "metadata": {},
     "output_type": "execute_result"
    }
   ],
   "source": [
    "grader.check(\"q3_4\")"
   ]
  },
  {
   "cell_type": "code",
   "execution_count": 169,
   "metadata": {},
   "outputs": [
    {
     "name": "stdout",
     "output_type": "stream",
     "text": [
      "['Belgium' 'China' 'Japan' 'United States']\n"
     ]
    }
   ],
   "source": [
    "# for your reference\n",
    "print(country_array)"
   ]
  },
  {
   "cell_type": "markdown",
   "metadata": {
    "deletable": false,
    "editable": false,
    "tags": [
     "gradable"
    ]
   },
   "source": [
    "**Question 3.5:**\n",
    "Now that we have fit the data of each country, we can then retrieve the slope and intercept of each fit. Using the equation you derived in Question 1.3, fill in the blanks in the print statements below such that they display the $\\alpha$ and $A$ values for each country. Note that you will need to transform at least one of the variables.\n",
    "\n",
    "**Note:** Python has special strings called **f-strings** where it fills in the value of a variable for you. For example:\n",
    "\n",
    "```python\n",
    ">>> arr = make_array(1, 2, 3)\n",
    ">>> print(f\"The second element of arr is {arr.item(1)}\")\n",
    "The second element of arr is 2\n",
    "```\n",
    "\n",
    "Fill `alpha_array` and `A_array` with the correct values from your `model_*` arrays. **Make sure their elements are in the same order as in the** `country_array`. Then, you will need to replace the `...` inside the curly braces in the f-strings print statements. You can use the example above as a reference. \n",
    "\n",
    "<!--\n",
    "BEGIN QUESTION\n",
    "name: q3_5\n",
    "points:\n",
    "    - 0\n",
    "    - 0\n",
    "    - 0.5\n",
    "    - 0.5\n",
    "-->"
   ]
  },
  {
   "cell_type": "code",
   "execution_count": 181,
   "metadata": {},
   "outputs": [
    {
     "name": "stdout",
     "output_type": "stream",
     "text": [
      "Belgium alpha value: 0.48316377768782476\n",
      "Belgium A value: 1.0031311284129776\n",
      "\n",
      "China alpha value: 0.7979204805725137\n",
      "China A value: 1.047516370314335\n",
      "\n",
      "Japan alpha value: 0.5395950787228023\n",
      "Japan A value: 1.0212543152689324\n",
      "\n",
      "United States alpha value: 1.234957538476382\n",
      "United States A value: 1.0405138600448538\n",
      "\n"
     ]
    }
   ],
   "source": [
    "alpha_array = make_array(model_country2[0], model_china[0], model_country1[0], model_us[0])\n",
    "A_array = np.exp(make_array(model_country2[1], model_china[1], model_country1[1], model_us[1])) # you may want to use np.exp here\n",
    "for i in np.arange(len(country_array)):\n",
    "    print(f\"{country_array.item(i)} alpha value: {alpha_array[i]}\")\n",
    "    print(f\"{country_array.item(i)} A value: {A_array[i]}\")\n",
    "    print()"
   ]
  },
  {
   "cell_type": "code",
   "execution_count": 182,
   "metadata": {
    "deletable": false,
    "editable": false
   },
   "outputs": [
    {
     "data": {
      "text/html": [
       "<p><strong><pre style='display: inline;'>q3_5</pre></strong> passed!</p>"
      ],
      "text/plain": [
       "q3_5 results: All test cases passed!"
      ]
     },
     "execution_count": 182,
     "metadata": {},
     "output_type": "execute_result"
    }
   ],
   "source": [
    "grader.check(\"q3_5\")"
   ]
  },
  {
   "cell_type": "markdown",
   "metadata": {
    "deletable": false,
    "editable": false
   },
   "source": [
    "**Question 3.6:**\n",
    "What do you notice about USA's $\\alpha$ value? What does this say about our model's assumption of constant returns to scale?\n",
    "\n",
    "<ol type=\"A\" style=\"list-style-type: lower-alpha;\">\n",
    "    <li>USA's $\\alpha$ value is greater than 1, and it violates our model's assumption. </li>\n",
    "    <li>USA's $\\alpha$ value is greater than 1, and it does not violate our model's assumption. </li>\n",
    "    <li>USA's $\\alpha$ value is less than 1, and it violates our model's assumption. </li>\n",
    "    <li>USA's $\\alpha$ value is less than 1, and it does not violate our model's assumption. </li>\n",
    "</ol>\n",
    "\n",
    "Assign a letter corresponding to your answer to `q3_6` below. For example, `q1_2 = 'a'`.\n",
    "\n",
    "<!--\n",
    "BEGIN QUESTION\n",
    "name: q3_6\n",
    "points: \n",
    "    - 0\n",
    "    - 1\n",
    "-->"
   ]
  },
  {
   "cell_type": "code",
   "execution_count": 183,
   "metadata": {},
   "outputs": [],
   "source": [
    "q3_6 = 'a'"
   ]
  },
  {
   "cell_type": "code",
   "execution_count": 184,
   "metadata": {
    "deletable": false,
    "editable": false
   },
   "outputs": [
    {
     "data": {
      "text/html": [
       "<p><strong><pre style='display: inline;'>q3_6</pre></strong> passed!</p>"
      ],
      "text/plain": [
       "q3_6 results: All test cases passed!"
      ]
     },
     "execution_count": 184,
     "metadata": {},
     "output_type": "execute_result"
    }
   ],
   "source": [
    "grader.check(\"q3_6\")"
   ]
  },
  {
   "cell_type": "markdown",
   "metadata": {
    "deletable": false,
    "editable": false,
    "tags": [
     "gradable"
    ]
   },
   "source": [
    "<!-- BEGIN QUESTION -->\n",
    "\n",
    "**Question 3.7:**\n",
    "With reference to the $\\alpha$ and $A$ values for each of the countries you have examined, do they indicate about that country's ability to produce output as measured through GDP? Compare and contrast how each country allocates capital and labor when producing output. How about the role of technology or research and development? 3-4 sentences should suffice.\n",
    "\n",
    "<!--\n",
    "BEGIN QUESTION\n",
    "name: q3_7\n",
    "manual: true\n",
    "-->"
   ]
  },
  {
   "cell_type": "markdown",
   "metadata": {},
   "source": [
    "The US has a alpha greater than 1, which is impossible since the portion allocated to capital must be less than 1. Among the rest 3 countries, China has the greatest $\\alpha$, meaning that it has allocated the biggest portion of resources on capital; as a result, it also has the greatest growth rate of GDP. From that perspective, Japan comes second and Belgium is the last. It shows that alpha does have a positive relationship with the growth of GDP. ON the other hand, China also has the highest $A$ value, and this might also contributed to its GDP growth. In this case, Japan also has the second high $s$ and Belgium the third, which also indicate a positive relationship between Technology development and GDP growth."
   ]
  },
  {
   "cell_type": "markdown",
   "metadata": {},
   "source": [
    "<!-- END QUESTION -->\n",
    "\n",
    "\n",
    "\n",
    "---\n",
    "\n",
    "**Acknowledgements:**\n",
    "We would like to thank Professor Raymond Hawkins for his Economics 100B Problem Set that served as the basis for this assignment."
   ]
  },
  {
   "cell_type": "markdown",
   "metadata": {
    "deletable": false,
    "editable": false
   },
   "source": [
    "---\n",
    "\n",
    "To double-check your work, the cell below will rerun all of the autograder tests."
   ]
  },
  {
   "cell_type": "code",
   "execution_count": 185,
   "metadata": {
    "deletable": false,
    "editable": false
   },
   "outputs": [
    {
     "data": {
      "text/plain": [
       "q1_1 results: All test cases passed!\n",
       "\n",
       "q1_2 results: All test cases passed!\n",
       "\n",
       "q1_3 results: All test cases passed!\n",
       "\n",
       "q1_4 results: All test cases passed!\n",
       "\n",
       "q2_1 results: All test cases passed!\n",
       "\n",
       "q2_3 results: All test cases passed!\n",
       "\n",
       "q2_5 results: All test cases passed!\n",
       "\n",
       "q2_7 results: All test cases passed!\n",
       "\n",
       "q3_1 results: All test cases passed!\n",
       "\n",
       "q3_2 results: All test cases passed!\n",
       "\n",
       "q3_4 results: All test cases passed!\n",
       "\n",
       "q3_5 results: All test cases passed!\n",
       "\n",
       "q3_6 results: All test cases passed!"
      ]
     },
     "execution_count": 185,
     "metadata": {},
     "output_type": "execute_result"
    }
   ],
   "source": [
    "grader.check_all()"
   ]
  },
  {
   "cell_type": "markdown",
   "metadata": {
    "deletable": false,
    "editable": false
   },
   "source": [
    "## Submission\n",
    "\n",
    "Make sure you have run all cells in your notebook in order before running the cell below, so that all images/graphs appear in the output. The cell below will generate a zip file for you to submit. **Please save before exporting!**"
   ]
  },
  {
   "cell_type": "code",
   "execution_count": null,
   "metadata": {
    "deletable": false,
    "editable": false
   },
   "outputs": [],
   "source": [
    "# Save your notebook first, then run this cell to export your submission.\n",
    "grader.export(pdf=False)"
   ]
  },
  {
   "cell_type": "markdown",
   "metadata": {},
   "source": [
    " "
   ]
  }
 ],
 "metadata": {
  "kernelspec": {
   "display_name": "Python 3 (ipykernel)",
   "language": "python",
   "name": "python3"
  },
  "language_info": {
   "codemirror_mode": {
    "name": "ipython",
    "version": 3
   },
   "file_extension": ".py",
   "mimetype": "text/x-python",
   "name": "python",
   "nbconvert_exporter": "python",
   "pygments_lexer": "ipython3",
   "version": "3.9.13"
  },
  "varInspector": {
   "cols": {
    "lenName": 16,
    "lenType": 16,
    "lenVar": 40
   },
   "kernels_config": {
    "python": {
     "delete_cmd_postfix": "",
     "delete_cmd_prefix": "del ",
     "library": "var_list.py",
     "varRefreshCmd": "print(var_dic_list())"
    },
    "r": {
     "delete_cmd_postfix": ") ",
     "delete_cmd_prefix": "rm(",
     "library": "var_list.r",
     "varRefreshCmd": "cat(var_dic_list()) "
    }
   },
   "types_to_exclude": [
    "module",
    "function",
    "builtin_function_or_method",
    "instance",
    "_Feature"
   ],
   "window_display": false
  }
 },
 "nbformat": 4,
 "nbformat_minor": 4
}
