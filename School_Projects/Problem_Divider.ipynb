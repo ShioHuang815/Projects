{
 "cells": [
  {
   "cell_type": "code",
   "execution_count": 45,
   "id": "83ab2b1d-2fc7-4df9-80e7-f3d485bfa7bd",
   "metadata": {},
   "outputs": [],
   "source": [
    "import numpy as np\n",
    "import random"
   ]
  },
  {
   "cell_type": "code",
   "execution_count": 46,
   "id": "11b8cf0e-5fed-4f51-8da0-b6344118f328",
   "metadata": {},
   "outputs": [],
   "source": [
    "# Enter the number of questions and it will randomly assign each person with fair amount of questions\n",
    "def random_divider(num):\n",
    "    step = num // 4\n",
    "    questions =np.arange(1, num + 1, 1)\n",
    "    random.shuffle(questions)\n",
    "    print(f'Chi:{questions[0: step]} \\nGlenys:{questions[step: 2 * step]} \\nShio:{questions[2 * step: 3 * step]} \\nRobin:{questions[3 * step: 4 * step]}')\n",
    "        "
   ]
  },
  {
   "cell_type": "code",
   "execution_count": 47,
   "id": "7bf20d54-456d-4c01-b890-a65cc545c92c",
   "metadata": {},
   "outputs": [
    {
     "name": "stdout",
     "output_type": "stream",
     "text": [
      "Chi:[4] \n",
      "Glenys:[3] \n",
      "Shio:[1] \n",
      "Robin:[2]\n"
     ]
    }
   ],
   "source": [
    "# For example\n",
    "random_number(4)"
   ]
  },
  {
   "cell_type": "code",
   "execution_count": null,
   "id": "396716aa-1055-4cc8-ad96-e7890e07e9ca",
   "metadata": {},
   "outputs": [],
   "source": []
  }
 ],
 "metadata": {
  "kernelspec": {
   "display_name": "Python 3 (ipykernel)",
   "language": "python",
   "name": "python3"
  },
  "language_info": {
   "codemirror_mode": {
    "name": "ipython",
    "version": 3
   },
   "file_extension": ".py",
   "mimetype": "text/x-python",
   "name": "python",
   "nbconvert_exporter": "python",
   "pygments_lexer": "ipython3",
   "version": "3.12.5"
  }
 },
 "nbformat": 4,
 "nbformat_minor": 5
}
