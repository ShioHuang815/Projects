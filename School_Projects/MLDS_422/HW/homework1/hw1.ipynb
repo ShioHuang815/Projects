{
 "cells": [
  {
   "cell_type": "markdown",
   "id": "9166830a-76e4-4b78-966d-b2ee6dc20755",
   "metadata": {},
   "source": [
    "# Homework 1: Python Basics"
   ]
  },
  {
   "cell_type": "markdown",
   "id": "8a2888b0-bf01-471a-ad76-ed1cd76cd33e",
   "metadata": {},
   "source": [
    "For this assignment:\n",
    "* Please use base Python only with no imported packages\n",
    "* Remember to include comments and display your outputs\n",
    "* Make sure all cells are run before submitting on Canvas"
   ]
  },
  {
   "cell_type": "markdown",
   "id": "2b7b373c-f7f9-461c-948e-71dc6ef2c792",
   "metadata": {},
   "source": [
    "### 1. List Practice [6 points]"
   ]
  },
  {
   "cell_type": "code",
   "execution_count": null,
   "id": "350d4dd1-64f0-4efd-859b-ec2a91495bf8",
   "metadata": {},
   "outputs": [],
   "source": [
    "# my shopping list\n",
    "items = [\"Apples\", \"Bananas\", \"Cherries\", \"Dates\", \"Figs\"]\n",
    "prices = [1.5, 0.6, 4.0, 3.5, 5.0]\n",
    "quantities = [4, 6, 12, 8, 3]"
   ]
  },
  {
   "cell_type": "markdown",
   "id": "8eb8e29e-807e-4e79-b753-50bddde0545c",
   "metadata": {},
   "source": [
    "#### a. Add grape details"
   ]
  },
  {
   "cell_type": "markdown",
   "id": "e5101ff1-e430-4167-91cd-8cd3df0fa8ec",
   "metadata": {},
   "source": [
    "Add the details for grapes to all three lists: 5 pounds of grapes at $2.50 per pound. View the updated lists."
   ]
  },
  {
   "cell_type": "code",
   "execution_count": null,
   "id": "83c4778a-4d73-47d3-b20a-af08ef88282f",
   "metadata": {},
   "outputs": [],
   "source": []
  },
  {
   "cell_type": "markdown",
   "id": "83303833-6d92-4818-8d10-45d7b62c0878",
   "metadata": {},
   "source": [
    "#### b. Remove banana details"
   ]
  },
  {
   "cell_type": "markdown",
   "id": "c3708104-205f-4af1-8b6a-136a60690526",
   "metadata": {},
   "source": [
    "Remove banana details from all three lists. View the updated lists."
   ]
  },
  {
   "cell_type": "code",
   "execution_count": null,
   "id": "7212eafd-bb6c-4f64-b3ac-8f1b22410a73",
   "metadata": {},
   "outputs": [],
   "source": []
  },
  {
   "cell_type": "markdown",
   "id": "ef1bbfe7-1d39-4368-9181-a66ae9aa4e2c",
   "metadata": {},
   "source": [
    "#### c. Create a `discounted_prices` list"
   ]
  },
  {
   "cell_type": "markdown",
   "id": "cb795024-fe72-455f-b08a-7a895377ceb0",
   "metadata": {},
   "source": [
    "Using a `for` loop and `if-else` statements, apply a 10% discount to cherries and a 20% discount to figs from the original `prices` list. Keep the original prices for all other items. Display the `discounted_price` list."
   ]
  },
  {
   "cell_type": "code",
   "execution_count": null,
   "id": "2ee4e807-5b00-42e4-ac44-4bbfe3ac8d93",
   "metadata": {},
   "outputs": [],
   "source": []
  },
  {
   "cell_type": "markdown",
   "id": "4ecf2db9-d132-4d1a-bc60-a4278ed51bb9",
   "metadata": {},
   "source": [
    "#### d. Understand the `zip` function"
   ]
  },
  {
   "cell_type": "markdown",
   "id": "cd4b88f5-137a-4a53-86de-e4660a71fd60",
   "metadata": {},
   "source": [
    "Describe what's happening in the code below with the `list` and `zip` functions and why it's helpful to create a combined list."
   ]
  },
  {
   "cell_type": "code",
   "execution_count": null,
   "id": "37d20ef9-ffd9-4960-afc2-58526364b8b1",
   "metadata": {},
   "outputs": [],
   "source": [
    "combined_lists = list(zip(discounted_prices, items, quantities))\n",
    "combined_lists"
   ]
  },
  {
   "cell_type": "markdown",
   "id": "9acf3638-f31a-4139-9fcf-ae63b5ff18ba",
   "metadata": {},
   "source": [
    "#### e. Sort the combined list"
   ]
  },
  {
   "cell_type": "markdown",
   "id": "eb7e8296-2f43-4dac-b5d4-e8cf8d7b8396",
   "metadata": {},
   "source": [
    "Sort the items in the combined list by discounted price, in descending order. View the sorted list."
   ]
  },
  {
   "cell_type": "code",
   "execution_count": null,
   "id": "2127a46d-6718-4986-a65d-391a47a0c36c",
   "metadata": {},
   "outputs": [],
   "source": []
  },
  {
   "cell_type": "markdown",
   "id": "1f06129d-d9e2-442c-849c-e67237af6622",
   "metadata": {},
   "source": [
    "#### f. Calculate the total cost"
   ]
  },
  {
   "cell_type": "markdown",
   "id": "6a27a976-6624-45f5-a0a2-498dc241e01d",
   "metadata": {},
   "source": [
    "Print out the total cost of the final shopping list (includes grapes and doesn't include bananas) using the discounted prices and quantities. The output should be in the format $xxx.xx."
   ]
  },
  {
   "cell_type": "code",
   "execution_count": null,
   "id": "b9294d05-5850-4db6-81d2-41f5c8b85065",
   "metadata": {},
   "outputs": [],
   "source": []
  },
  {
   "cell_type": "markdown",
   "id": "86a6dc38-3e4a-4c88-bb71-040358203339",
   "metadata": {},
   "source": [
    "### 2. Dictionary Practice [6 points]"
   ]
  },
  {
   "cell_type": "code",
   "execution_count": null,
   "id": "acdc5d3c-da03-4ac6-b08d-a10ed9aca1b7",
   "metadata": {},
   "outputs": [],
   "source": [
    "# my student dictionary\n",
    "grades = {\n",
    "    \"Ava\": 85,\n",
    "    \"Bob\": 90,\n",
    "    \"Cat\": 78,\n",
    "    \"Dan\": 92\n",
    "}"
   ]
  },
  {
   "cell_type": "markdown",
   "id": "ed6ee557-9954-4811-a2de-2656ed741d61",
   "metadata": {},
   "source": [
    "#### a. Add a new student Eve (grade = 88) if she doesn't exist. Display the `grades` dictionary."
   ]
  },
  {
   "cell_type": "code",
   "execution_count": null,
   "id": "fc4d2c19-5ba3-42c1-bf9f-620d6058432e",
   "metadata": {},
   "outputs": [],
   "source": []
  },
  {
   "cell_type": "markdown",
   "id": "a500125a-81bf-4882-8639-15fac39d520a",
   "metadata": {},
   "source": [
    "#### b. Update Bob's grade to 95 only if it's higher than the average. Display the `grades` dictionary."
   ]
  },
  {
   "cell_type": "code",
   "execution_count": null,
   "id": "c8e8d7b2-130d-488d-988d-f99908008603",
   "metadata": {},
   "outputs": [],
   "source": []
  },
  {
   "cell_type": "markdown",
   "id": "1b1dba36-e01f-49b2-905c-d5bcde81cd4f",
   "metadata": {},
   "source": [
    "#### c. Describe what's happening in the code below with the `key=lambda item:` portions"
   ]
  },
  {
   "cell_type": "code",
   "execution_count": null,
   "id": "00fd0115-c45b-4796-b7f3-add23b7fb06e",
   "metadata": {},
   "outputs": [],
   "source": [
    "sorted(grades.items(), key=lambda item: item[0])"
   ]
  },
  {
   "cell_type": "code",
   "execution_count": null,
   "id": "df891ee1-efb4-4848-96c8-fc89af826d49",
   "metadata": {},
   "outputs": [],
   "source": [
    "sorted(grades.items(), key=lambda item: item[1])"
   ]
  },
  {
   "cell_type": "markdown",
   "id": "bb268959-3c14-49a0-b04b-f49732bb7e52",
   "metadata": {},
   "source": [
    "#### d. Remove the student with the second lowest grade. Display the `grades` dictionary."
   ]
  },
  {
   "cell_type": "code",
   "execution_count": null,
   "id": "8b88520d-6593-492c-ae91-7cd60d753b54",
   "metadata": {},
   "outputs": [],
   "source": []
  },
  {
   "cell_type": "markdown",
   "id": "d048c33d-2f3c-48ea-8cbd-3bfd195a9454",
   "metadata": {},
   "source": [
    "#### e. Print out the remaining students and their grades, from highest to lowest grade."
   ]
  },
  {
   "cell_type": "code",
   "execution_count": null,
   "id": "3ce8b196-9ec9-48e0-a236-fac4dd7cd2be",
   "metadata": {},
   "outputs": [],
   "source": []
  },
  {
   "cell_type": "markdown",
   "id": "4d5b2a13-1c44-4710-a138-cae65fc2f577",
   "metadata": {},
   "source": [
    "#### f. Create a list of the remaining student names who scored above an 80. Display the list."
   ]
  },
  {
   "cell_type": "code",
   "execution_count": null,
   "id": "80879450-2753-43d5-b834-e8e441a45fdb",
   "metadata": {},
   "outputs": [],
   "source": []
  },
  {
   "cell_type": "markdown",
   "id": "0c5ef093-2c57-47c8-81aa-5629ad0d6e12",
   "metadata": {},
   "source": [
    "### 3. Function Practice [3 points]"
   ]
  },
  {
   "cell_type": "markdown",
   "id": "14028d02-3b80-4f2f-b0c8-8fb589d19ed6",
   "metadata": {},
   "source": [
    "Given a string, write a function to reverse the string:\n",
    "\n",
    "* reverseString('abcdef') will return 'fedcba'\n",
    "* reverseString('moon') will return 'noom\n"
   ]
  },
  {
   "cell_type": "markdown",
   "id": "09cbf37f-6229-4fff-b6f0-0cd2aad98c9b",
   "metadata": {},
   "source": [
    "#### a. Write a function using slicing and apply it to the two test cases [1 point]"
   ]
  },
  {
   "cell_type": "code",
   "execution_count": null,
   "id": "1f131622-4ccc-4045-836d-b44456a33d87",
   "metadata": {},
   "outputs": [],
   "source": []
  },
  {
   "cell_type": "markdown",
   "id": "4ffe6d59-3066-4034-90c7-eaf51eb89e5f",
   "metadata": {},
   "source": [
    "#### b. Write a function using a loop and apply it to the two test cases [2 points]"
   ]
  },
  {
   "cell_type": "code",
   "execution_count": null,
   "id": "96057184-2680-44c0-a43f-e759b01b906e",
   "metadata": {},
   "outputs": [],
   "source": []
  },
  {
   "cell_type": "markdown",
   "id": "1534d1ad-8918-4a03-ad31-75559ccb9f75",
   "metadata": {},
   "source": [
    "### 4. Loop Practice [5 points]"
   ]
  },
  {
   "cell_type": "markdown",
   "id": "14c1bc95-5646-4b4c-87f7-0ed7a37f2c64",
   "metadata": {},
   "source": [
    "#### a. Describe what's happening in the code below with `while` [1 point]"
   ]
  },
  {
   "cell_type": "code",
   "execution_count": null,
   "id": "dfb1c2d9-8e8a-4ce7-b6ba-6489af76b433",
   "metadata": {},
   "outputs": [],
   "source": [
    "count = 1\n",
    "\n",
    "while count <= 5:\n",
    "    print(count)\n",
    "    count += 1"
   ]
  },
  {
   "cell_type": "markdown",
   "id": "798cc1db-69e9-4c6b-b631-488364082ef6",
   "metadata": {},
   "source": [
    "#### b. Write a function using a while loop and apply it to the two test cases [4 points]"
   ]
  },
  {
   "cell_type": "markdown",
   "id": "e99fcb38-7667-4d39-9700-c965c2b44da8",
   "metadata": {},
   "source": [
    "Write a function that takes a number between 1 and 100 and tries to guess it. The function should make guesses and change them based on whether the guess is too high or too low, repeating this until it finds the right number.\n",
    "\n",
    "* guess(13) should return \"I got it right in `x` tries.\"\n",
    "* guess(75) should return \"I got it right in `y` tries.\"\n",
    "\n",
    "Points:\n",
    "* 2 points for writing a function that's able to guess a number in x tries\n",
    "* 1 point for using an optimal approach (fewest number of tries)\n",
    "* 1 point for well-organized and commented code"
   ]
  },
  {
   "cell_type": "code",
   "execution_count": null,
   "id": "d7573d4e-545c-4417-b90e-2e0e210b992b",
   "metadata": {},
   "outputs": [],
   "source": []
  },
  {
   "cell_type": "code",
   "execution_count": null,
   "id": "336b453a-5d14-4f59-86b4-7c86440902aa",
   "metadata": {},
   "outputs": [],
   "source": []
  }
 ],
 "metadata": {
  "kernelspec": {
   "display_name": "Python 3 (ipykernel)",
   "language": "python",
   "name": "python3"
  },
  "language_info": {
   "codemirror_mode": {
    "name": "ipython",
    "version": 3
   },
   "file_extension": ".py",
   "mimetype": "text/x-python",
   "name": "python",
   "nbconvert_exporter": "python",
   "pygments_lexer": "ipython3",
   "version": "3.11.5"
  }
 },
 "nbformat": 4,
 "nbformat_minor": 5
}
