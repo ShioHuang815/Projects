{
 "cells": [
  {
   "cell_type": "markdown",
   "id": "31fcad0a-e66c-4e0a-ab16-b22f4d9838d4",
   "metadata": {},
   "source": [
    "# Homework 2: Function Practice"
   ]
  },
  {
   "cell_type": "markdown",
   "id": "cf8b8732-0d6e-41de-b9b6-1386e6300bc6",
   "metadata": {},
   "source": [
    "For this assignment:\n",
    "* Please use base Python only with no imported packages\n",
    "* Remember to include comments and display your outputs\n",
    "* Make sure all cells are run before submitting to Canvas"
   ]
  },
  {
   "cell_type": "markdown",
   "id": "9e812aa1-00f1-4619-8340-5dd4eb8c6377",
   "metadata": {},
   "source": [
    "## Create a Text Analysis module"
   ]
  },
  {
   "cell_type": "markdown",
   "id": "d2cb1a01-c399-4628-b7f5-2c50b7ab1356",
   "metadata": {},
   "source": [
    "Your ultimate goal will be to write a Python script that contains functions to take in a string, list of strings or a file name, and return the top n most common words using base Python only with no imported packages.\n",
    "\n",
    "This assignment will walk you through the following steps:\n",
    "1. Create a `count_words` function\n",
    "2. Create a `clean_text` function\n",
    "3. Create a `most_common` function\n",
    "4. Create a `count_words_from_documents` function\n",
    "5. Create a `count_words_from_file` function\n",
    "6. Create a `top_n_words` function\n",
    "7. Update `top_n_words` to account for different inputs\n",
    "8. Update `top_n_words` to account for ties\n",
    "9. Save all of your functions within a `text_analysis.py` file\n",
    "10. Run the `text_analysis.py` file from your Terminal or Command Prompt and view the results\n",
    "11. Import the `text_analysis.py` module into your notebook and test it out\n",
    "12. Turn a string output into word-count pairs"
   ]
  },
  {
   "cell_type": "markdown",
   "id": "25a8a016-5241-4636-89fb-8caaeefe4867",
   "metadata": {},
   "source": [
    "### 1. Create a `count_words` function"
   ]
  },
  {
   "cell_type": "markdown",
   "id": "03205f5c-e4dc-4134-b386-ab7017553b70",
   "metadata": {},
   "source": [
    "Write a function called `count_words` that takes in a phrase and returns a dictionary of word counts. Apply the function to the test phrase and display the output."
   ]
  },
  {
   "cell_type": "markdown",
   "id": "f83d4e5b-9108-4d3b-ad09-2d6b3a0be5cf",
   "metadata": {},
   "source": [
    "**Expected Output:**\n",
    "\n",
    "`{'i': 1,\n",
    " 'bought': 1,\n",
    " 'a': 2,\n",
    " 'sandwich': 1,\n",
    " 'with': 1,\n",
    " 'side': 1,\n",
    " 'of': 1,\n",
    " 'chips': 1}`"
   ]
  },
  {
   "cell_type": "code",
   "execution_count": 384,
   "id": "20914a42-35fb-4a51-b409-d9f36582da42",
   "metadata": {},
   "outputs": [],
   "source": [
    "test_phrase = 'i bought a sandwich with a side of chips'"
   ]
  },
  {
   "cell_type": "code",
   "execution_count": 385,
   "id": "87fcfbb7-3164-4030-addc-f02fb7de4ddf",
   "metadata": {},
   "outputs": [],
   "source": [
    "def count_words(phrase):\n",
    "    '''Takes in a phrase and returns a dictionary of word counts'''\n",
    "    words = phrase.split()\n",
    "    result = {}\n",
    "    for word in words:\n",
    "        if word not in result:\n",
    "            result[word] = 1  # Initialize with 1 for the first occurrence\n",
    "        else:\n",
    "            result[word] += 1  # Increase the count by 1 if word has already been stored\n",
    "    return result"
   ]
  },
  {
   "cell_type": "code",
   "execution_count": 386,
   "id": "19f0068f-f101-46e2-8199-bf092eef4181",
   "metadata": {},
   "outputs": [
    {
     "data": {
      "text/plain": [
       "{'i': 1,\n",
       " 'bought': 1,\n",
       " 'a': 2,\n",
       " 'sandwich': 1,\n",
       " 'with': 1,\n",
       " 'side': 1,\n",
       " 'of': 1,\n",
       " 'chips': 1}"
      ]
     },
     "execution_count": 386,
     "metadata": {},
     "output_type": "execute_result"
    }
   ],
   "source": [
    "count_words(test_phrase)"
   ]
  },
  {
   "cell_type": "markdown",
   "id": "91481885-7da6-446c-99c1-31de8f590d84",
   "metadata": {},
   "source": [
    "### 2. Create a `clean_text` function and update the `count_words` function"
   ]
  },
  {
   "cell_type": "markdown",
   "id": "4877e9c2-97d4-4f43-8d19-21db74403cb3",
   "metadata": {},
   "source": [
    "Write a function called `clean_text` that takes in a phrase, removes the following punctuation marks `.,?!'\"` and makes all the text lowercase. Update the `count_words` function to include the `clean_text` function. Apply the `count_words` function to the test phrase and display the output."
   ]
  },
  {
   "cell_type": "code",
   "execution_count": 387,
   "id": "a15287b3-219d-4780-9343-db6584691ee6",
   "metadata": {},
   "outputs": [],
   "source": [
    "test_phrase_2 = 'I bought a sandwich with a side of chips.'"
   ]
  },
  {
   "cell_type": "code",
   "execution_count": 388,
   "id": "dfff2257-d27f-4322-83b8-2b4149edc910",
   "metadata": {},
   "outputs": [],
   "source": [
    "def clean_text(phrase):\n",
    "    '''Takes in a phrase, removes punctuations, and makes all the text lowercase'''\n",
    "    phrase = phrase.lower()\n",
    "    punctuations = '.,?!\\'\"'  # Set puncatuations \n",
    "    for punctuation in punctuations:  # Remove each puncatuation one at a time\n",
    "        phrase = phrase.replace(punctuation, '')  # Store the result back to phrase\n",
    "    return phrase"
   ]
  },
  {
   "cell_type": "code",
   "execution_count": 389,
   "id": "a7b5893b-78c5-464b-ba26-3292d70dbb30",
   "metadata": {},
   "outputs": [],
   "source": [
    "def count_words(phrase):\n",
    "    '''Takes in a phrase and returns a dictionary of word counts'''\n",
    "    phrase = clean_text(phrase)\n",
    "    words = phrase.split()\n",
    "    result = {}\n",
    "    for word in words:\n",
    "        if word not in result:\n",
    "            result[word] = 1  # Initialize with 1 for the first occurrence\n",
    "        else:\n",
    "            result[word] += 1  # Increase the count by 1 if word has already been stored\n",
    "    return result"
   ]
  },
  {
   "cell_type": "code",
   "execution_count": 390,
   "id": "0be7b8d4-9568-4a76-9bb1-b513aec5d37f",
   "metadata": {},
   "outputs": [
    {
     "data": {
      "text/plain": [
       "{'i': 1,\n",
       " 'bought': 1,\n",
       " 'a': 2,\n",
       " 'sandwich': 1,\n",
       " 'with': 1,\n",
       " 'side': 1,\n",
       " 'of': 1,\n",
       " 'chips': 1}"
      ]
     },
     "execution_count": 390,
     "metadata": {},
     "output_type": "execute_result"
    }
   ],
   "source": [
    "count_words(test_phrase_2)"
   ]
  },
  {
   "cell_type": "markdown",
   "id": "4b1d30a6-d595-4ba3-9eef-f37c3c5eab06",
   "metadata": {},
   "source": [
    "### 3. Create a `most_common` function"
   ]
  },
  {
   "cell_type": "markdown",
   "id": "5e092aef-fb21-4b2c-85f4-3d35066e96a3",
   "metadata": {},
   "source": [
    "Write a function called `most_common` that takes in a phrase and returns the most common word from the string. It should include the `count_words` function. For the time being, don't worry about dealing with tie breakers -- just return a single most common word. Apply the `most_common` function to the test phrase and display the output."
   ]
  },
  {
   "cell_type": "code",
   "execution_count": 391,
   "id": "974f86ce-9e79-4367-8ce6-aab5b98c9f9c",
   "metadata": {},
   "outputs": [],
   "source": [
    "test_phrase_2 = 'I bought a sandwich with a side of chips.'"
   ]
  },
  {
   "cell_type": "code",
   "execution_count": 392,
   "id": "348987e9-d8a7-4062-ae08-31bf60678b99",
   "metadata": {},
   "outputs": [],
   "source": [
    "def most_common(phrase):\n",
    "    '''Takes in a phrase and returns the most common word from the string'''\n",
    "    counter = count_words(phrase)\n",
    "    # Return the key with the highest count\n",
    "    most_common_word = max(counter, key = counter.get)\n",
    "    return most_common_word"
   ]
  },
  {
   "cell_type": "code",
   "execution_count": 393,
   "id": "98854717-30c5-4d47-be29-255d415c1ac4",
   "metadata": {},
   "outputs": [
    {
     "data": {
      "text/plain": [
       "'a'"
      ]
     },
     "execution_count": 393,
     "metadata": {},
     "output_type": "execute_result"
    }
   ],
   "source": [
    "most_common(test_phrase_2)"
   ]
  },
  {
   "cell_type": "markdown",
   "id": "b4aae325-dc00-4392-a893-e76effa2fcc7",
   "metadata": {},
   "source": [
    "### 4. Create a `count_words_from_documents` function"
   ]
  },
  {
   "cell_type": "markdown",
   "id": "ead6205f-6978-4bdc-8bcd-8d27224a9875",
   "metadata": {},
   "source": [
    "Write a function called `count_words_from_documents` that takes in a list of strings (aka documents), cleans the text, counts the words across all the documents and returns the most common word using the functions you've already written. Apply the `count_words_from_documents` function to the test documents list and display the output."
   ]
  },
  {
   "cell_type": "code",
   "execution_count": 394,
   "id": "35b8d113-db05-4174-97ac-73ef66a5d79e",
   "metadata": {},
   "outputs": [],
   "source": [
    "documents = [\n",
    "    'I enjoyed a delicious homemade lasagna for dinner last night.',\n",
    "    'She ordered a classic Caesar salad for lunch at the restaurant.',\n",
    "    'Breakfast is my favorite meal of the day! I always start with a hearty omelette.',\n",
    "    \"We're having grilled chicken with roasted vegetables for tonight's meal.\",\n",
    "    'On a hot summer day, nothing beats a refreshing fruit salad.',\n",
    "    'They decided to order takeout sushi for a convenient and tasty meal.',\n",
    "    'Thanksgiving dinner is traditionally a feast of turkey, stuffing, and cranberry sauce.',\n",
    "    \"My grandmother's homemade apple pie is the perfect dessert to end any meal.\",\n",
    "    'For lunch today, I had a delicious avocado toast topped with poached eggs.',\n",
    "    'We celebrated his birthday with a mouthwatering chocolate cake and vanilla ice cream.',\n",
    "    'Dinner was a cozy bowl of tomato soup paired with a crunchy grilled cheese sandwich.',\n",
    "    'I love starting my day with a bowl of oatmeal, topped with fresh berries and honey.',\n",
    "    'At the family reunion, we enjoyed a huge barbecue feast of ribs, burgers, and corn on the cob.',\n",
    "    'She baked a loaf of sourdough bread that filled the kitchen with an amazing aroma.',\n",
    "    'We indulged in a savory beef stew slow-cooked for hours with carrots and potatoes.'\n",
    "]"
   ]
  },
  {
   "cell_type": "code",
   "execution_count": 395,
   "id": "16071eac-f664-48cb-b269-f0e4f6ccc547",
   "metadata": {},
   "outputs": [],
   "source": [
    "def count_words_from_documents(documents):\n",
    "    '''Cleans the text, counts the words across all the documents and returns the most common word'''\n",
    "    full_document = ' '.join(documents)# Join all document together\n",
    "    return most_common(full_document)"
   ]
  },
  {
   "cell_type": "code",
   "execution_count": 396,
   "id": "a1f2dad9-4ccd-4795-8c61-9aecd2522827",
   "metadata": {},
   "outputs": [
    {
     "data": {
      "text/plain": [
       "'a'"
      ]
     },
     "execution_count": 396,
     "metadata": {},
     "output_type": "execute_result"
    }
   ],
   "source": [
    "count_words_from_documents(documents)"
   ]
  },
  {
   "cell_type": "markdown",
   "id": "f2674e3b-38ad-4c46-bedd-b51af17d38d8",
   "metadata": {},
   "source": [
    "### 5. Create a `count_words_from_file` function"
   ]
  },
  {
   "cell_type": "markdown",
   "id": "46fae1ac-c603-4674-b572-d8b7f0b3ad75",
   "metadata": {},
   "source": [
    "Write a function called `count_words_from_file` that takes in a file name, reads the file, cleans the text, counts the words and returns the most common word using the functions you've already written. Apply the `count_words_from_file` function to the file name and display the output.\n",
    "\n",
    "**Reminder:** For this assignment, we're only using base Python, so no imported packages like Pandas, please."
   ]
  },
  {
   "cell_type": "code",
   "execution_count": 397,
   "id": "796c11e4-0e49-45f2-b3c2-ae0679d88d9f",
   "metadata": {},
   "outputs": [],
   "source": [
    "file_name = \"peter_pan_chapter_1.txt\""
   ]
  },
  {
   "cell_type": "code",
   "execution_count": 398,
   "id": "60e254dc-0dbb-4501-a146-7762fb2ce4ab",
   "metadata": {},
   "outputs": [],
   "source": [
    "def count_words_from_file(file_name):\n",
    "    '''Reads the file, cleans the text, counts the words and returns the most common word'''\n",
    "    file = open(file_name, 'r', encoding = 'utf') \n",
    "    doc = file.read() # Read file\n",
    "    file.close()\n",
    "    counter = count_words(doc) # Because doc is not a list of string, we cannot use most_common directly\n",
    "    return max(counter, key = counter.get)"
   ]
  },
  {
   "cell_type": "code",
   "execution_count": 399,
   "id": "f06750d0-6a89-4199-b814-7985ffd76054",
   "metadata": {},
   "outputs": [
    {
     "data": {
      "text/plain": [
       "'the'"
      ]
     },
     "execution_count": 399,
     "metadata": {},
     "output_type": "execute_result"
    }
   ],
   "source": [
    "count_words_from_file(file_name)"
   ]
  },
  {
   "cell_type": "markdown",
   "id": "ba80140c-aea3-473f-ae69-d8fa37957d1d",
   "metadata": {},
   "source": [
    "### 6. Create a `top_n_words` function"
   ]
  },
  {
   "cell_type": "markdown",
   "id": "99ed29ae-5f02-4882-84e9-02ef0a5e6bfc",
   "metadata": {},
   "source": [
    "Write a function called `top_n_words` that takes in a string and returns the top n words specified by the user. If the user doesn't specify n, the default value of n should be 3. Apply the `top_n_words` function using the default value of `n` to the test phrase and display the output."
   ]
  },
  {
   "cell_type": "code",
   "execution_count": 400,
   "id": "17842016-beae-4cb3-9a0e-4601fe08530c",
   "metadata": {},
   "outputs": [],
   "source": [
    "test_phrase_3 = (\n",
    "    \"I love pizza. Pizza is my favorite food. Everyone loves pizza, \"\n",
    "    \"but I also enjoy pasta. Pasta with tomato sauce and cheese is delicious. \"\n",
    "    \"On weekends, I like to make pizza or pasta for dinner. Pizza is always a hit!\"\n",
    ")"
   ]
  },
  {
   "cell_type": "markdown",
   "id": "04dc1a29-7c03-4ccf-bf8e-b7f6e9e50e82",
   "metadata": {},
   "source": [
    "**Example Input:**\n",
    "\n",
    "`top_n_words(test_phrase_3)`\n",
    "\n",
    "**Example Output:**\n",
    "\n",
    "\"The word 'pizza' appears 5 times. The word 'i' appears 3 times. The word 'is' appears 3 times.\""
   ]
  },
  {
   "cell_type": "markdown",
   "id": "4ff3bca5-312b-45f7-a926-f375219658a4",
   "metadata": {},
   "source": [
    "**Example Input:**\n",
    "\n",
    "`top_n_words(test_phrase_3, n=4)`\n",
    "\n",
    "**Example Output:**\n",
    "\n",
    "\"The word 'pizza' appears 5 times. The word 'i' appears 3 times. The word 'is' appears 3 times. The word 'pasta' appears 3 times.\""
   ]
  },
  {
   "cell_type": "code",
   "execution_count": 401,
   "id": "13093069-cfc3-4294-aa5e-e7e2baf36e9b",
   "metadata": {},
   "outputs": [],
   "source": [
    "def top_n_words(phrase, n = 3):\n",
    "    '''Takes in a string and returns the top n words specified by the user'''\n",
    "    counter = count_words(phrase)\n",
    "    sorted_counter = sorted(counter, key = lambda x: counter[x], reverse = True) # Sort the counter by the values of each key\n",
    "    result = ''# Create a variable to store the output string\n",
    "    for i in range(n):\n",
    "        result += (f'The word \\'{sorted_counter[i]}\\' appears {counter[sorted_counter[i]]} times.') # Add each key with their appearances\n",
    "    return result"
   ]
  },
  {
   "cell_type": "code",
   "execution_count": 402,
   "id": "e4196f88-52da-48d2-ba83-a7b95ac62071",
   "metadata": {},
   "outputs": [
    {
     "data": {
      "text/plain": [
       "\"The word 'pizza' appears 5 times.The word 'i' appears 3 times.The word 'is' appears 3 times.\""
      ]
     },
     "execution_count": 402,
     "metadata": {},
     "output_type": "execute_result"
    }
   ],
   "source": [
    "top_n_words(test_phrase_3)"
   ]
  },
  {
   "cell_type": "markdown",
   "id": "183d275c-297e-49e4-9a29-11d2cc4730f1",
   "metadata": {},
   "source": [
    "### 7. Update the `top_n_words` function"
   ]
  },
  {
   "cell_type": "markdown",
   "id": "76358a5e-57ff-4aff-971d-31b5b69433dc",
   "metadata": {},
   "source": [
    "Update the `top_n_words` function to be able to take in a string, list of strings or file name, and return the top n words specified by the user. Apply the `top_n_words` function using the default value of `n` to `test_phrase_3`, `documents` and `file_name`."
   ]
  },
  {
   "cell_type": "code",
   "execution_count": 403,
   "id": "3cb68447-fb4e-4f8f-9371-39cbde5fd525",
   "metadata": {},
   "outputs": [],
   "source": [
    "def top_n_words(input_data, n = 3):\n",
    "    '''Takes in either a string, list of string, or file name, return the top n words specified by the user'''\n",
    "    if isinstance(input_data, list):# First check if input_date is a list\n",
    "        phrase = ' '.join(input_data)\n",
    "    else:\n",
    "        try:\n",
    "            file = open(input_data, 'r', encoding='utf-8') # If we can open it, treat it as a file\n",
    "            phrase = file.read()\n",
    "            file.close()\n",
    "        except FileNotFoundError:\n",
    "            # If it can't be opened, treat it as a regular string\n",
    "            phrase = input_data\n",
    "    counter = count_words(phrase)\n",
    "    sorted_counter = sorted(counter, key = lambda x: counter[x], reverse = True)\n",
    "    result = ''\n",
    "    for i in range(n):\n",
    "        result += (f'The word \\'{sorted_counter[i]}\\' appears {counter[sorted_counter[i]]} times.')\n",
    "    return result"
   ]
  },
  {
   "cell_type": "code",
   "execution_count": 404,
   "id": "39e211f9-ebc7-47cc-8ec1-798b15cbc3d2",
   "metadata": {},
   "outputs": [
    {
     "data": {
      "text/plain": [
       "\"The word 'pizza' appears 5 times.The word 'i' appears 3 times.The word 'is' appears 3 times.\""
      ]
     },
     "execution_count": 404,
     "metadata": {},
     "output_type": "execute_result"
    }
   ],
   "source": [
    "top_n_words(test_phrase_3)"
   ]
  },
  {
   "cell_type": "code",
   "execution_count": 405,
   "id": "3f4a4edf-6c84-42c1-8682-f2d1210e5e66",
   "metadata": {},
   "outputs": [
    {
     "data": {
      "text/plain": [
       "\"The word 'a' appears 15 times.The word 'with' appears 9 times.The word 'for' appears 6 times.\""
      ]
     },
     "execution_count": 405,
     "metadata": {},
     "output_type": "execute_result"
    }
   ],
   "source": [
    "top_n_words(documents)"
   ]
  },
  {
   "cell_type": "code",
   "execution_count": 406,
   "id": "f33d8299-2632-482b-a005-f69b29a16c52",
   "metadata": {},
   "outputs": [
    {
     "data": {
      "text/plain": [
       "\"The word 'the' appears 135 times.The word 'and' appears 116 times.The word 'a' appears 75 times.\""
      ]
     },
     "execution_count": 406,
     "metadata": {},
     "output_type": "execute_result"
    }
   ],
   "source": [
    "top_n_words(file_name)"
   ]
  },
  {
   "cell_type": "markdown",
   "id": "a320bb81-aa43-41e6-87c4-76cf8c5f39d7",
   "metadata": {},
   "source": [
    "### 8. Update the `top_n_words` function again"
   ]
  },
  {
   "cell_type": "markdown",
   "id": "cc94bf61-62df-4ef5-9511-00ea529e45ae",
   "metadata": {},
   "source": [
    "Update the `top_n_words` function to be able to handle ties. Describe your approach (there are multiple correct answers to this -- you will get full credit as long as your explanation makes sense). Apply the `top_n_words` function with `n=5` to `test_phrase_3`, `documents` and `file_name`."
   ]
  },
  {
   "cell_type": "markdown",
   "id": "564e1085-b3ce-44b3-899b-44fd6b24faca",
   "metadata": {},
   "source": [
    "#### Answer: In this approach, I check for ties by comparing the value of each word in the dictioanry through a while loop of n. When there is a tie, n would not be changed. However, when there is no tie, n will be updated by -1. This while loop ends when the nth different value appears, regardless of the ties within."
   ]
  },
  {
   "cell_type": "code",
   "execution_count": 407,
   "id": "b25ffa7b-f0eb-4e2d-a9d0-7679d67f1555",
   "metadata": {},
   "outputs": [],
   "source": [
    "def top_n_words(input_data, n = 3):\n",
    "    '''Takes in either a string, list of string, or file name, return the top n words specified by the user'''\n",
    "    if isinstance(input_data, list):# First check if input_date is a list\n",
    "        phrase = ' '.join(input_data)\n",
    "    else:\n",
    "        try:\n",
    "            file = open(input_data, 'r', encoding='utf-8') # If we can open it, treat it as a file\n",
    "            phrase = file.read()\n",
    "            file.close()\n",
    "        except FileNotFoundError:\n",
    "            # If it can't be opened, treat it as a regular string\n",
    "            phrase = input_data\n",
    "    counter = count_words(phrase)\n",
    "    sorted_counter = sorted(counter, key = lambda x: counter[x], reverse = True)\n",
    "    i = 0\n",
    "    prev_max = counter[sorted_counter[i]] # Store the previous highest occurence\n",
    "    result = ''\n",
    "    while n > 1:\n",
    "        if i >= len(sorted_counter): # Check if the number of tied words is out of bound\n",
    "            print('\\nToo many ties, out of bound')\n",
    "            break\n",
    "        value = counter[sorted_counter[i]]\n",
    "        # If the value is less than prev_max, meaning there is no tie, hence we could proceed to next highest occurence\n",
    "        if counter[sorted_counter[i]] < prev_max: \n",
    "            n -= 1\n",
    "            prev_max = value\n",
    "        result += (f'The word \\'{sorted_counter[i]}\\' appears {counter[sorted_counter[i]]} times. ')\n",
    "        i += 1 # Point to next word in the sorted_counter list\n",
    "    return result"
   ]
  },
  {
   "cell_type": "code",
   "execution_count": 408,
   "id": "0cb9ddf9-75b4-45aa-8f31-0451d0634828",
   "metadata": {},
   "outputs": [
    {
     "name": "stdout",
     "output_type": "stream",
     "text": [
      "\n",
      "Too many ties, out of bound\n"
     ]
    },
    {
     "data": {
      "text/plain": [
       "\"The word 'pizza' appears 5 times. The word 'i' appears 3 times. The word 'is' appears 3 times. The word 'pasta' appears 3 times. The word 'love' appears 1 times. The word 'my' appears 1 times. The word 'favorite' appears 1 times. The word 'food' appears 1 times. The word 'everyone' appears 1 times. The word 'loves' appears 1 times. The word 'but' appears 1 times. The word 'also' appears 1 times. The word 'enjoy' appears 1 times. The word 'with' appears 1 times. The word 'tomato' appears 1 times. The word 'sauce' appears 1 times. The word 'and' appears 1 times. The word 'cheese' appears 1 times. The word 'delicious' appears 1 times. The word 'on' appears 1 times. The word 'weekends' appears 1 times. The word 'like' appears 1 times. The word 'to' appears 1 times. The word 'make' appears 1 times. The word 'or' appears 1 times. The word 'for' appears 1 times. The word 'dinner' appears 1 times. The word 'always' appears 1 times. The word 'a' appears 1 times. The word 'hit' appears 1 times. \""
      ]
     },
     "execution_count": 408,
     "metadata": {},
     "output_type": "execute_result"
    }
   ],
   "source": [
    "top_n_words(test_phrase_3, 5)"
   ]
  },
  {
   "cell_type": "code",
   "execution_count": 409,
   "id": "a597a2f4-29d7-4928-b12e-d4f2b6405ec3",
   "metadata": {},
   "outputs": [
    {
     "data": {
      "text/plain": [
       "\"The word 'a' appears 15 times. The word 'with' appears 9 times. The word 'for' appears 6 times. The word 'the' appears 6 times. The word 'of' appears 6 times. The word 'and' appears 6 times. The word 'i' appears 4 times. The word 'meal' appears 4 times. The word 'dinner' appears 3 times. \""
      ]
     },
     "execution_count": 409,
     "metadata": {},
     "output_type": "execute_result"
    }
   ],
   "source": [
    "top_n_words(documents, 5)"
   ]
  },
  {
   "cell_type": "code",
   "execution_count": 410,
   "id": "037904bb-7655-4234-bf34-e7674d0464c4",
   "metadata": {},
   "outputs": [
    {
     "data": {
      "text/plain": [
       "\"The word 'the' appears 135 times. The word 'and' appears 116 times. The word 'a' appears 75 times. The word 'she' appears 74 times. The word 'of' appears 69 times. \""
      ]
     },
     "execution_count": 410,
     "metadata": {},
     "output_type": "execute_result"
    }
   ],
   "source": [
    "top_n_words(file_name, 5)"
   ]
  },
  {
   "cell_type": "markdown",
   "id": "5b37b842-a627-4f25-b8d7-b83fb52ba5dc",
   "metadata": {},
   "source": [
    "### 9. Create a `text_analysis.py` file"
   ]
  },
  {
   "cell_type": "markdown",
   "id": "d727f7a3-4b7e-4f90-9c68-9a2edc0f5df9",
   "metadata": {},
   "source": [
    "Save all of your final functions in a `text_analysis.py` file. Include the following code at the bottom of your file.\n",
    "\n",
    "```\n",
    "# Example usage\n",
    "if __name__ == \"__main__\":\n",
    "    test_phrase = (\n",
    "        \"I love pizza. Pizza is my favorite food. Everyone loves pizza, \"\n",
    "        \"but I also enjoy pasta. Pasta with tomato sauce and cheese is delicious. \"\n",
    "        \"On weekends, I like to make pizza or pasta for dinner. Pizza is always a hit!\"\n",
    "    )\n",
    "    print(top_n_words(test_phrase, n=5))\n",
    "```\n",
    "\n",
    "Include this `.py` file in your final submission to Canvas."
   ]
  },
  {
   "cell_type": "markdown",
   "id": "ceaa1c76-69a6-4060-8205-ae8ebfe01c9a",
   "metadata": {},
   "source": [
    "### 10. Run the `text_analysis.py` file"
   ]
  },
  {
   "cell_type": "markdown",
   "id": "57ce9417-d523-48e1-986e-899f2190d720",
   "metadata": {},
   "source": [
    "Run the `text_analysis.py` script in your Terminal or Command Prompt by entering the command `python text_analysis.py`.\n",
    "\n",
    "After running the script, describe the output you see and explain why you see that output. Be sure to mention the role of the `if __name__ == \"__main__\":` portion in your explanation."
   ]
  },
  {
   "cell_type": "code",
   "execution_count": 418,
   "id": "e2c17d0f-cfd0-4e00-a1b4-c3d668ba493b",
   "metadata": {},
   "outputs": [
    {
     "name": "stdout",
     "output_type": "stream",
     "text": [
      "\n",
      "Too many ties, out of bound\n",
      "The word 'pizza' appears 5 times. The word 'i' appears 3 times. The word 'is' appears 3 times. The word 'pasta' appears 3 times. The word 'love' appears 1 times. The word 'my' appears 1 times. The word 'favorite' appears 1 times. The word 'food' appears 1 times. The word 'everyone' appears 1 times. The word 'loves' appears 1 times. The word 'but' appears 1 times. The word 'also' appears 1 times. The word 'enjoy' appears 1 times. The word 'with' appears 1 times. The word 'tomato' appears 1 times. The word 'sauce' appears 1 times. The word 'and' appears 1 times. The word 'cheese' appears 1 times. The word 'delicious' appears 1 times. The word 'on' appears 1 times. The word 'weekends' appears 1 times. The word 'like' appears 1 times. The word 'to' appears 1 times. The word 'make' appears 1 times. The word 'or' appears 1 times. The word 'for' appears 1 times. The word 'dinner' appears 1 times. The word 'always' appears 1 times. The word 'a' appears 1 times. The word 'hit' appears 1 times. \n"
     ]
    }
   ],
   "source": [
    "!py text_analysis.py"
   ]
  },
  {
   "cell_type": "markdown",
   "id": "ed2ad9d8-97e6-4c53-ac08-44387e641b4a",
   "metadata": {},
   "source": [
    "#### Answer: When the script is executed, the function $top_n_words$ is executed, and top n most common words and their counts are shown. The inclusion of the if $__name__ == \"__main__\"$: block ensures that this analysis only occurs when the script is run directly by the terminal, and not when imported as a module in another script. This makes the script resuable"
   ]
  },
  {
   "cell_type": "markdown",
   "id": "d140ff0e-0882-49c2-ab91-ec7401b27fe4",
   "metadata": {},
   "source": [
    "### 11. Import your newly created `text_analysis` module"
   ]
  },
  {
   "cell_type": "markdown",
   "id": "329d17d5-adaf-4ed0-a473-d0eb0599697c",
   "metadata": {},
   "source": [
    "Within this notebook, import the `text_analysis` module you just created. Test it out by using it to:\n",
    "1. View the doc string for the `clean_text` method\n",
    "2. Apply the `top_n_words` method to the second chapter of Peter Pan using the default arguments\n",
    "3. Apply the `top_n_words` method to find the top 10 words in the second chapter of Peter Pan"
   ]
  },
  {
   "cell_type": "code",
   "execution_count": 419,
   "id": "0014e59d-33f6-40db-9964-fb4332065d71",
   "metadata": {},
   "outputs": [],
   "source": [
    "import text_analysis as ta"
   ]
  },
  {
   "cell_type": "code",
   "execution_count": 420,
   "id": "63b73c1b-0971-41f3-aff8-72a02d8f5384",
   "metadata": {},
   "outputs": [
    {
     "name": "stdout",
     "output_type": "stream",
     "text": [
      "Help on function clean_text in module text_analysis:\n",
      "\n",
      "clean_text(phrase)\n",
      "    Takes in a phrase, removes punctuations, and makes all the text lowercase\n",
      "\n"
     ]
    }
   ],
   "source": [
    "help(ta.clean_text) # View the doc string"
   ]
  },
  {
   "cell_type": "code",
   "execution_count": 421,
   "id": "83c9b9de-e7d2-47eb-b77c-3b8ed44f0ffb",
   "metadata": {},
   "outputs": [
    {
     "name": "stdout",
     "output_type": "stream",
     "text": [
      "The word 'the' appears 124 times.The word 'to' appears 81 times.The word 'and' appears 80 times."
     ]
    }
   ],
   "source": [
    "ta.top_n_words(\"peter_pan_chapter_2.txt\")"
   ]
  },
  {
   "cell_type": "code",
   "execution_count": 422,
   "id": "380c1247-8d98-45db-9017-4a1149a3ee0c",
   "metadata": {},
   "outputs": [
    {
     "name": "stdout",
     "output_type": "stream",
     "text": [
      "The word 'the' appears 124 times.The word 'to' appears 81 times.The word 'and' appears 80 times.The word 'it' appears 71 times.The word 'he' appears 67 times.The word 'a' appears 59 times.The word 'was' appears 56 times.The word 'i' appears 54 times.The word 'had' appears 47 times.The word 'her' appears 46 times."
     ]
    }
   ],
   "source": [
    "ta.top_n_words(\"peter_pan_chapter_2.txt\", 10)"
   ]
  },
  {
   "cell_type": "markdown",
   "id": "25cd6ff3-0ac7-4730-819e-a544f52334f6",
   "metadata": {},
   "source": [
    "### 12. Turn the string output into word-count pairs"
   ]
  },
  {
   "cell_type": "markdown",
   "id": "8270d48f-71fa-4ffc-b655-15de98c9ce17",
   "metadata": {},
   "source": [
    "Take the string output of the top 10 words in the second chapter of Peter Pan, and turn it into a list of tuples representing the word-count pairs.\n",
    "\n",
    "**Input**:\n",
    "\n",
    "```\"The word 'the' appears 124 times. The word 'to' appears 81 times. ...\"```\n",
    "\n",
    "**Output**:\n",
    "\n",
    "```\n",
    "[('the', 124),\n",
    " ('to', 81),\n",
    " ...\n",
    "```"
   ]
  },
  {
   "cell_type": "code",
   "execution_count": 423,
   "id": "ab904240-c5ee-4318-b741-710247ad1873",
   "metadata": {},
   "outputs": [],
   "source": [
    "input_string = top_n_words(\"peter_pan_chapter_2.txt\", 10)"
   ]
  },
  {
   "cell_type": "code",
   "execution_count": 424,
   "id": "bed60c71-b35c-4d6f-9d5f-3e2d596b8033",
   "metadata": {},
   "outputs": [],
   "source": [
    "# Initialize an empty list to hold the tuples\n",
    "word_count_pairs = []\n",
    "\n",
    "# Split the input string into individual statements based on the period.\n",
    "statements = input_string.split('. ')\n",
    "\n",
    "# Process each statement to extract word and count\n",
    "for statement in statements:\n",
    "    parts = statement.split(' ')  # Split the statement into words\n",
    "    if len(parts) == 6:# Check if parts is a valid statement\n",
    "        word_count_pairs.append((parts[2], parts[4]))  # In the splitted parts, the word at these two position are the word and count"
   ]
  },
  {
   "cell_type": "code",
   "execution_count": 425,
   "id": "4bcf68f2-fc32-496a-9b00-0daada5bd780",
   "metadata": {},
   "outputs": [
    {
     "data": {
      "text/plain": [
       "[(\"'the'\", '124'),\n",
       " (\"'to'\", '81'),\n",
       " (\"'and'\", '80'),\n",
       " (\"'it'\", '71'),\n",
       " (\"'he'\", '67'),\n",
       " (\"'a'\", '59'),\n",
       " (\"'was'\", '56'),\n",
       " (\"'i'\", '54'),\n",
       " (\"'had'\", '47'),\n",
       " (\"'her'\", '46')]"
      ]
     },
     "execution_count": 425,
     "metadata": {},
     "output_type": "execute_result"
    }
   ],
   "source": [
    "word_count_pairs"
   ]
  }
 ],
 "metadata": {
  "kernelspec": {
   "display_name": "Python 3 (ipykernel)",
   "language": "python",
   "name": "python3"
  },
  "language_info": {
   "codemirror_mode": {
    "name": "ipython",
    "version": 3
   },
   "file_extension": ".py",
   "mimetype": "text/x-python",
   "name": "python",
   "nbconvert_exporter": "python",
   "pygments_lexer": "ipython3",
   "version": "3.12.5"
  }
 },
 "nbformat": 4,
 "nbformat_minor": 5
}
