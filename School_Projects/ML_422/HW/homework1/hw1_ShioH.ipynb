{
 "cells": [
  {
   "cell_type": "markdown",
   "id": "9166830a-76e4-4b78-966d-b2ee6dc20755",
   "metadata": {},
   "source": [
    "# Homework 1: Python Basics"
   ]
  },
  {
   "cell_type": "markdown",
   "id": "8a2888b0-bf01-471a-ad76-ed1cd76cd33e",
   "metadata": {},
   "source": [
    "For this assignment:\n",
    "* Please use base Python only with no imported packages\n",
    "* Remember to include comments and display your outputs\n",
    "* Make sure all cells are run before submitting on Canvas"
   ]
  },
  {
   "cell_type": "markdown",
   "id": "2b7b373c-f7f9-461c-948e-71dc6ef2c792",
   "metadata": {},
   "source": [
    "### 1. List Practice [6 points]"
   ]
  },
  {
   "cell_type": "code",
   "execution_count": 139,
   "id": "350d4dd1-64f0-4efd-859b-ec2a91495bf8",
   "metadata": {},
   "outputs": [],
   "source": [
    "# my shopping list\n",
    "items = [\"Apples\", \"Bananas\", \"Cherries\", \"Dates\", \"Figs\"]\n",
    "prices = [1.5, 0.6, 4.0, 3.5, 5.0]\n",
    "quantities = [4, 6, 12, 8, 3]"
   ]
  },
  {
   "cell_type": "markdown",
   "id": "8eb8e29e-807e-4e79-b753-50bddde0545c",
   "metadata": {},
   "source": [
    "#### a. Add grape details"
   ]
  },
  {
   "cell_type": "markdown",
   "id": "e5101ff1-e430-4167-91cd-8cd3df0fa8ec",
   "metadata": {},
   "source": [
    "Add the details for grapes to all three lists: 5 pounds of grapes at $2.50 per pound. View the updated lists."
   ]
  },
  {
   "cell_type": "code",
   "execution_count": 140,
   "id": "83c4778a-4d73-47d3-b20a-af08ef88282f",
   "metadata": {},
   "outputs": [
    {
     "name": "stdout",
     "output_type": "stream",
     "text": [
      "Buy 4 pounds of Apples at the price $1.5\n",
      "Buy 6 pounds of Bananas at the price $0.6\n",
      "Buy 12 pounds of Cherries at the price $4.0\n",
      "Buy 8 pounds of Dates at the price $3.5\n",
      "Buy 3 pounds of Figs at the price $5.0\n",
      "Buy 5 pounds of Grapes at the price $2.5\n",
      "['Apples', 'Bananas', 'Cherries', 'Dates', 'Figs', 'Grapes']\n",
      "[1.5, 0.6, 4.0, 3.5, 5.0, 2.5]\n",
      "[4, 6, 12, 8, 3, 5]\n"
     ]
    }
   ],
   "source": [
    "# Add grapes to items\n",
    "items.append('Grapes')\n",
    "# Add Price of grapes to prices\n",
    "prices.append(2.5)\n",
    "# Add the quantity to buy to quantities\n",
    "quantities.append(5)\n",
    "for i in range(len(items)):\n",
    "    print(f'Buy {quantities[i]} pounds of {items[i]} at the price ${prices[i]}')\n",
    "print(items)\n",
    "print(prices)\n",
    "print(quantities)"
   ]
  },
  {
   "cell_type": "markdown",
   "id": "83303833-6d92-4818-8d10-45d7b62c0878",
   "metadata": {},
   "source": [
    "#### b. Remove banana details"
   ]
  },
  {
   "cell_type": "markdown",
   "id": "c3708104-205f-4af1-8b6a-136a60690526",
   "metadata": {},
   "source": [
    "Remove banana details from all three lists. View the updated lists."
   ]
  },
  {
   "cell_type": "code",
   "execution_count": 141,
   "id": "7212eafd-bb6c-4f64-b3ac-8f1b22410a73",
   "metadata": {},
   "outputs": [
    {
     "name": "stdout",
     "output_type": "stream",
     "text": [
      "['Apples', 'Cherries', 'Dates', 'Figs', 'Grapes']\n",
      "[1.5, 4.0, 3.5, 5.0, 2.5]\n",
      "[4, 12, 8, 3, 5]\n"
     ]
    }
   ],
   "source": [
    "# Find the index of banana, then remove it from each list\n",
    "index_banana = items.index('Bananas')\n",
    "# pop it from each list\n",
    "items.pop(index_banana)\n",
    "prices.pop(index_banana)\n",
    "quantities.pop(index_banana)\n",
    "# Print out each list\n",
    "print(items)\n",
    "print(prices)\n",
    "print(quantities)"
   ]
  },
  {
   "cell_type": "markdown",
   "id": "ef1bbfe7-1d39-4368-9181-a66ae9aa4e2c",
   "metadata": {},
   "source": [
    "#### c. Create a `discounted_prices` list"
   ]
  },
  {
   "cell_type": "markdown",
   "id": "cb795024-fe72-455f-b08a-7a895377ceb0",
   "metadata": {},
   "source": [
    "Using a `for` loop and `if-else` statements, apply a 10% discount to cherries and a 20% discount to figs from the original `prices` list. Keep the original prices for all other items. Display the `discounted_price` list."
   ]
  },
  {
   "cell_type": "code",
   "execution_count": 142,
   "id": "2ee4e807-5b00-42e4-ac44-4bbfe3ac8d93",
   "metadata": {},
   "outputs": [
    {
     "name": "stdout",
     "output_type": "stream",
     "text": [
      "[1.5, 3.6, 3.5, 4.0, 2.5]\n"
     ]
    }
   ],
   "source": [
    "# Use dictionary to store discount\n",
    "discount = {'Cherries': 0.1, 'Figs': 0.2}\n",
    "discounted_prices = prices\n",
    "# Apply discount to each item\n",
    "for fruit in items:\n",
    "    if fruit in discount:\n",
    "        discounted_prices[items.index(fruit)] *= (1 - discount[fruit])\n",
    "    else:\n",
    "        continue\n",
    "# Print the new discounted_price\n",
    "print(discounted_prices)"
   ]
  },
  {
   "cell_type": "markdown",
   "id": "4ecf2db9-d132-4d1a-bc60-a4278ed51bb9",
   "metadata": {},
   "source": [
    "#### d. Understand the `zip` function"
   ]
  },
  {
   "cell_type": "markdown",
   "id": "cd4b88f5-137a-4a53-86de-e4660a71fd60",
   "metadata": {},
   "source": [
    "Describe what's happening in the code below with the `list` and `zip` functions and why it's helpful to create a combined list."
   ]
  },
  {
   "cell_type": "code",
   "execution_count": 143,
   "id": "37d20ef9-ffd9-4960-afc2-58526364b8b1",
   "metadata": {},
   "outputs": [
    {
     "data": {
      "text/plain": [
       "[(1.5, 'Apples', 4),\n",
       " (3.6, 'Cherries', 12),\n",
       " (3.5, 'Dates', 8),\n",
       " (4.0, 'Figs', 3),\n",
       " (2.5, 'Grapes', 5)]"
      ]
     },
     "execution_count": 143,
     "metadata": {},
     "output_type": "execute_result"
    }
   ],
   "source": [
    "# The zip function matches each element of different lists and combine them into a tuple. The tuples formed with elements from the original lists are used to form a new list.\n",
    "combined_lists = list(zip(discounted_prices, items, quantities))\n",
    "combined_lists"
   ]
  },
  {
   "cell_type": "markdown",
   "id": "cc475c81",
   "metadata": {},
   "source": [
    "<span style=\"color: green;\"> Answer: The zip function matches each element of different lists and combine them into tuples. The tuples formed with elements from the original lists are used to form a new list."
   ]
  },
  {
   "cell_type": "markdown",
   "id": "9acf3638-f31a-4139-9fcf-ae63b5ff18ba",
   "metadata": {},
   "source": [
    "#### e. Sort the combined list"
   ]
  },
  {
   "cell_type": "markdown",
   "id": "eb7e8296-2f43-4dac-b5d4-e8cf8d7b8396",
   "metadata": {},
   "source": [
    "Sort the items in the combined list by discounted price, in descending order. View the sorted list."
   ]
  },
  {
   "cell_type": "code",
   "execution_count": 144,
   "id": "2127a46d-6718-4986-a65d-391a47a0c36c",
   "metadata": {},
   "outputs": [
    {
     "name": "stdout",
     "output_type": "stream",
     "text": [
      "[(4.0, 'Figs', 3), (3.6, 'Cherries', 12), (3.5, 'Dates', 8), (2.5, 'Grapes', 5), (1.5, 'Apples', 4)]\n"
     ]
    }
   ],
   "source": [
    "# Use the first element of each tuple to sort\n",
    "new_combined_lists = sorted(combined_lists, key = lambda x: x[0], reverse = True)\n",
    "print(new_combined_lists)"
   ]
  },
  {
   "cell_type": "markdown",
   "id": "1f06129d-d9e2-442c-849c-e67237af6622",
   "metadata": {},
   "source": [
    "#### f. Calculate the total cost"
   ]
  },
  {
   "cell_type": "markdown",
   "id": "6a27a976-6624-45f5-a0a2-498dc241e01d",
   "metadata": {},
   "source": [
    "Print out the total cost of the final shopping list (includes grapes and doesn't include bananas) using the discounted prices and quantities. The output should be in the format $xxx.xx."
   ]
  },
  {
   "cell_type": "code",
   "execution_count": 145,
   "id": "b9294d05-5850-4db6-81d2-41f5c8b85065",
   "metadata": {},
   "outputs": [
    {
     "name": "stdout",
     "output_type": "stream",
     "text": [
      "The total prices for item bought is $101.7\n"
     ]
    }
   ],
   "source": [
    "# Add the price of each fruit to total_cost\n",
    "total_cost = 0\n",
    "for item in new_combined_lists:\n",
    "    total_cost += item[0] * item[2]\n",
    "print(f'The total prices for item bought is ${total_cost}')"
   ]
  },
  {
   "cell_type": "markdown",
   "id": "86a6dc38-3e4a-4c88-bb71-040358203339",
   "metadata": {},
   "source": [
    "### 2. Dictionary Practice [6 points]"
   ]
  },
  {
   "cell_type": "code",
   "execution_count": 146,
   "id": "acdc5d3c-da03-4ac6-b08d-a10ed9aca1b7",
   "metadata": {},
   "outputs": [],
   "source": [
    "# my student dictionary\n",
    "grades = {\n",
    "    \"Ava\": 85,\n",
    "    \"Bob\": 90,\n",
    "    \"Cat\": 78,\n",
    "    \"Dan\": 92\n",
    "}"
   ]
  },
  {
   "cell_type": "markdown",
   "id": "ed6ee557-9954-4811-a2de-2656ed741d61",
   "metadata": {},
   "source": [
    "#### a. Add a new student Eve (grade = 88) if she doesn't exist. Display the `grades` dictionary."
   ]
  },
  {
   "cell_type": "code",
   "execution_count": 147,
   "id": "fc4d2c19-5ba3-42c1-bf9f-620d6058432e",
   "metadata": {},
   "outputs": [
    {
     "name": "stdout",
     "output_type": "stream",
     "text": [
      "{'Ava': 85, 'Bob': 90, 'Cat': 78, 'Dan': 92, 'Eve': 88}\n"
     ]
    }
   ],
   "source": [
    "# Check if Eve is in the dictionary\n",
    "if 'Eve' not in grades:\n",
    "    grades['Eve'] = 88\n",
    "# Display grades\n",
    "print(grades)"
   ]
  },
  {
   "cell_type": "markdown",
   "id": "a500125a-81bf-4882-8639-15fac39d520a",
   "metadata": {},
   "source": [
    "#### b. Update Bob's grade to 95 only if it's higher than the average. Display the `grades` dictionary."
   ]
  },
  {
   "cell_type": "code",
   "execution_count": 148,
   "id": "c8e8d7b2-130d-488d-988d-f99908008603",
   "metadata": {},
   "outputs": [
    {
     "name": "stdout",
     "output_type": "stream",
     "text": [
      "{'Ava': 85, 'Bob': 95, 'Cat': 78, 'Dan': 92, 'Eve': 88}\n"
     ]
    }
   ],
   "source": [
    "# Calculate the average based on the scores\n",
    "average = sum(grades.values()) / len(grades.values())\n",
    "# Compare Bob's grades to the average\n",
    "if grades['Bob'] > average:\n",
    "    grades['Bob'] = 95\n",
    "# Display grades\n",
    "print(grades)\n",
    "    "
   ]
  },
  {
   "cell_type": "markdown",
   "id": "1b1dba36-e01f-49b2-905c-d5bcde81cd4f",
   "metadata": {},
   "source": [
    "#### c. Describe what's happening in the code below with the `key=lambda item:` portions"
   ]
  },
  {
   "cell_type": "code",
   "execution_count": 149,
   "id": "00fd0115-c45b-4796-b7f3-add23b7fb06e",
   "metadata": {},
   "outputs": [
    {
     "data": {
      "text/plain": [
       "[('Ava', 85), ('Bob', 95), ('Cat', 78), ('Dan', 92), ('Eve', 88)]"
      ]
     },
     "execution_count": 149,
     "metadata": {},
     "output_type": "execute_result"
    }
   ],
   "source": [
    "# Sort the dictionary based on the first item of each element\n",
    "sorted(grades.items(), key=lambda item: item[0])"
   ]
  },
  {
   "cell_type": "code",
   "execution_count": 150,
   "id": "df891ee1-efb4-4848-96c8-fc89af826d49",
   "metadata": {},
   "outputs": [
    {
     "data": {
      "text/plain": [
       "[('Cat', 78), ('Ava', 85), ('Eve', 88), ('Dan', 92), ('Bob', 95)]"
      ]
     },
     "execution_count": 150,
     "metadata": {},
     "output_type": "execute_result"
    }
   ],
   "source": [
    "# Sort the dictionary based on the second item of each element\n",
    "sorted(grades.items(), key=lambda item: item[1])"
   ]
  },
  {
   "cell_type": "markdown",
   "id": "a7e4ec3c",
   "metadata": {},
   "source": [
    "<span style=\"color: green;\"> Answer: The \"lambda\" function takes in each element of the iterable and return a instruction expression."
   ]
  },
  {
   "cell_type": "markdown",
   "id": "bb268959-3c14-49a0-b04b-f49732bb7e52",
   "metadata": {},
   "source": [
    "#### d. Remove the student with the second lowest grade. Display the `grades` dictionary."
   ]
  },
  {
   "cell_type": "code",
   "execution_count": 151,
   "id": "8b88520d-6593-492c-ae91-7cd60d753b54",
   "metadata": {},
   "outputs": [
    {
     "name": "stdout",
     "output_type": "stream",
     "text": [
      "[('Cat', 78), ('Ava', 85), ('Eve', 88), ('Dan', 92), ('Bob', 95)]\n"
     ]
    }
   ],
   "source": [
    "# Rank students by score\n",
    "scores_rank = sorted(grades.items(), key=lambda item: item[1])\n",
    "# Find the person with the second lowest grade\n",
    "print(scores_rank)"
   ]
  },
  {
   "cell_type": "code",
   "execution_count": 152,
   "id": "a9c0c723",
   "metadata": {},
   "outputs": [
    {
     "name": "stdout",
     "output_type": "stream",
     "text": [
      "{'Bob': 95, 'Cat': 78, 'Dan': 92, 'Eve': 88}\n"
     ]
    }
   ],
   "source": [
    "# Remove Ava from the dictionary\n",
    "del grades['Ava']\n",
    "print(grades) "
   ]
  },
  {
   "cell_type": "markdown",
   "id": "d048c33d-2f3c-48ea-8cbd-3bfd195a9454",
   "metadata": {},
   "source": [
    "#### e. Print out the remaining students and their grades, from highest to lowest grade."
   ]
  },
  {
   "cell_type": "code",
   "execution_count": 153,
   "id": "3ce8b196-9ec9-48e0-a236-fac4dd7cd2be",
   "metadata": {},
   "outputs": [
    {
     "name": "stdout",
     "output_type": "stream",
     "text": [
      "Bob has a grade 95\n",
      "Dan has a grade 92\n",
      "Eve has a grade 88\n",
      "Cat has a grade 78\n"
     ]
    }
   ],
   "source": [
    "# Rank student with the grades\n",
    "scores_rank_2 = sorted(grades.items(), key=lambda item: item[1], reverse = True)\n",
    "for student in scores_rank_2:\n",
    "    print(f'{student[0]} has a grade {student[1]}')"
   ]
  },
  {
   "cell_type": "markdown",
   "id": "4d5b2a13-1c44-4710-a138-cae65fc2f577",
   "metadata": {},
   "source": [
    "#### f. Create a list of the remaining student names who scored above an 80. Display the list."
   ]
  },
  {
   "cell_type": "code",
   "execution_count": 154,
   "id": "80879450-2753-43d5-b834-e8e441a45fdb",
   "metadata": {},
   "outputs": [
    {
     "name": "stdout",
     "output_type": "stream",
     "text": [
      "['Bob', 'Dan', 'Eve']\n"
     ]
    }
   ],
   "source": [
    "# Create the list using list comprehension\n",
    "above_80 = [i[0] for i in scores_rank_2 if i[1] > 80]\n",
    "print(above_80)"
   ]
  },
  {
   "cell_type": "markdown",
   "id": "0c5ef093-2c57-47c8-81aa-5629ad0d6e12",
   "metadata": {},
   "source": [
    "### 3. Function Practice [3 points]"
   ]
  },
  {
   "cell_type": "markdown",
   "id": "14028d02-3b80-4f2f-b0c8-8fb589d19ed6",
   "metadata": {},
   "source": [
    "Given a string, write a function to reverse the string:\n",
    "\n",
    "* reverseString('abcdef') will return 'fedcba'\n",
    "* reverseString('moon') will return 'noom\n"
   ]
  },
  {
   "cell_type": "markdown",
   "id": "09cbf37f-6229-4fff-b6f0-0cd2aad98c9b",
   "metadata": {},
   "source": [
    "#### a. Write a function using slicing and apply it to the two test cases [1 point]"
   ]
  },
  {
   "cell_type": "code",
   "execution_count": 155,
   "id": "1f131622-4ccc-4045-836d-b44456a33d87",
   "metadata": {},
   "outputs": [],
   "source": [
    "# Create the test string\n",
    "str1 = 'abcdef'\n",
    "str2 = 'moon'"
   ]
  },
  {
   "cell_type": "code",
   "execution_count": 156,
   "id": "67767075",
   "metadata": {},
   "outputs": [
    {
     "name": "stdout",
     "output_type": "stream",
     "text": [
      "fedcba\n",
      "noom\n"
     ]
    }
   ],
   "source": [
    "def reverse_str1(str):\n",
    "    \"\"\"\n",
    "    Reverse the given string using slicing\n",
    "    \n",
    "    Parameter:\n",
    "    str(string): The string to reverse\n",
    "\n",
    "    Return:\n",
    "    The reversed string\n",
    "    \"\"\"\n",
    "    # Return the str using slicing, select the whole string and start from the last character\n",
    "    return str[:: -1]\n",
    "print(reverse_str1(str1))\n",
    "print(reverse_str1(str2))"
   ]
  },
  {
   "cell_type": "markdown",
   "id": "4ffe6d59-3066-4034-90c7-eaf51eb89e5f",
   "metadata": {},
   "source": [
    "#### b. Write a function using a loop and apply it to the two test cases [2 points]"
   ]
  },
  {
   "cell_type": "code",
   "execution_count": 157,
   "id": "96057184-2680-44c0-a43f-e759b01b906e",
   "metadata": {},
   "outputs": [
    {
     "name": "stdout",
     "output_type": "stream",
     "text": [
      "fedcba\n",
      "noom\n"
     ]
    }
   ],
   "source": [
    "def reverse_str2(str):\n",
    "    \"\"\"\n",
    "    Reverse the given string using loop\n",
    "\n",
    "    Parameter:\n",
    "    str(string): The string to reverse\n",
    "\n",
    "    Return:\n",
    "    The reversed string\n",
    "    \"\"\"\n",
    "    #Create a new string as output\n",
    "    result = ''\n",
    "    l = len(str)\n",
    "    while l != 0:\n",
    "        # Starting from the last character, add it to the output\n",
    "        result += str[l - 1: l]\n",
    "        l -= 1\n",
    "    return result\n",
    "print(reverse_str2(str1))\n",
    "print(reverse_str2(str2))"
   ]
  },
  {
   "cell_type": "markdown",
   "id": "1534d1ad-8918-4a03-ad31-75559ccb9f75",
   "metadata": {},
   "source": [
    "### 4. Loop Practice [5 points]"
   ]
  },
  {
   "cell_type": "markdown",
   "id": "14c1bc95-5646-4b4c-87f7-0ed7a37f2c64",
   "metadata": {},
   "source": [
    "#### a. Describe what's happening in the code below with `while` [1 point]"
   ]
  },
  {
   "cell_type": "code",
   "execution_count": 158,
   "id": "dfb1c2d9-8e8a-4ce7-b6ba-6489af76b433",
   "metadata": {},
   "outputs": [
    {
     "name": "stdout",
     "output_type": "stream",
     "text": [
      "1\n",
      "2\n",
      "3\n",
      "4\n",
      "5\n"
     ]
    }
   ],
   "source": [
    "count = 1\n",
    "# Loop until count equals to 5, in each cycle add 1 to the original count value\n",
    "while count <= 5:\n",
    "    print(count)\n",
    "    count += 1"
   ]
  },
  {
   "cell_type": "markdown",
   "metadata": {},
   "source": [
    "<span style=\"color: green;\"> Answer: Loop until count equals to 5, in each cycle add 1 to the original count value"
   ]
  },
  {
   "cell_type": "markdown",
   "id": "798cc1db-69e9-4c6b-b631-488364082ef6",
   "metadata": {},
   "source": [
    "#### b. Write a function using a while loop and apply it to the two test cases [4 points]"
   ]
  },
  {
   "cell_type": "markdown",
   "id": "e99fcb38-7667-4d39-9700-c965c2b44da8",
   "metadata": {},
   "source": [
    "Write a function that takes a number between 1 and 100 and tries to guess it. The function should make guesses and change them based on whether the guess is too high or too low, repeating this until it finds the right number.\n",
    "\n",
    "* guess(13) should return \"I got it right in `x` tries.\"\n",
    "* guess(75) should return \"I got it right in `y` tries.\"\n",
    "\n",
    "Points:\n",
    "* 2 points for writing a function that's able to guess a number in x tries\n",
    "* 1 point for using an optimal approach (fewest number of tries)\n",
    "* 1 point for well-organized and commented code"
   ]
  },
  {
   "cell_type": "code",
   "execution_count": 159,
   "id": "d7573d4e-545c-4417-b90e-2e0e210b992b",
   "metadata": {},
   "outputs": [],
   "source": [
    "def guess(num: int):\n",
    "    \"\"\"\n",
    "    Guess a number between 1 and 100.\n",
    "    \n",
    "    Parameters:\n",
    "    num (int): The number to guess, must be between 1 and 100.\n",
    "    \n",
    "    Returns:\n",
    "    str: A message indicating the number of tries taken to guess the number.\n",
    "    \"\"\"\n",
    "    \n",
    "    # Validate the input\n",
    "    if not (1 <= num <= 100):\n",
    "        return \"The number should be between 1 and 100.\"\n",
    "    \n",
    "    low, high = 1, 100    # Set the two bounds of the guessing range\n",
    "    tries = 0        # Initialize the number of tries\n",
    "    \n",
    "    while low <= high:\n",
    "        tries += 1                   # Increment the number of tries\n",
    "        guess = (low + high) // 2    # Make a guess using binary search\n",
    "        \n",
    "        if guess < num:           # If the guess is too low, narrow it to the higher number\n",
    "            low = guess + 1          \n",
    "        elif guess > num:         # If the guess is too high, narrow it to the lower number\n",
    "            high = guess - 1         \n",
    "        else:                         # If the guess is correct\n",
    "            return f\"I got it right in {tries} tries.\"\n",
    "    \n",
    "    return \"Something went wrong. The number is not between 1 and 100.\""
   ]
  },
  {
   "cell_type": "code",
   "execution_count": 160,
   "id": "336b453a-5d14-4f59-86b4-7c86440902aa",
   "metadata": {},
   "outputs": [
    {
     "data": {
      "text/plain": [
       "'I got it right in 6 tries.'"
      ]
     },
     "execution_count": 160,
     "metadata": {},
     "output_type": "execute_result"
    }
   ],
   "source": [
    "guess(13)"
   ]
  },
  {
   "cell_type": "code",
   "execution_count": 161,
   "id": "eeb878df",
   "metadata": {},
   "outputs": [
    {
     "data": {
      "text/plain": [
       "'I got it right in 2 tries.'"
      ]
     },
     "execution_count": 161,
     "metadata": {},
     "output_type": "execute_result"
    }
   ],
   "source": [
    "guess(75)"
   ]
  },
  {
   "cell_type": "code",
   "execution_count": 162,
   "id": "4bdfd885",
   "metadata": {},
   "outputs": [
    {
     "name": "stdout",
     "output_type": "stream",
     "text": [
      "With 0 in mind, The number should be between 1 and 100.\n",
      "With 1 in mind, I got it right in 6 tries.\n",
      "With 2 in mind, I got it right in 7 tries.\n",
      "With 3 in mind, I got it right in 5 tries.\n",
      "With 4 in mind, I got it right in 6 tries.\n",
      "With 5 in mind, I got it right in 7 tries.\n",
      "With 6 in mind, I got it right in 4 tries.\n",
      "With 7 in mind, I got it right in 6 tries.\n",
      "With 8 in mind, I got it right in 7 tries.\n",
      "With 9 in mind, I got it right in 5 tries.\n",
      "With 10 in mind, I got it right in 6 tries.\n",
      "With 11 in mind, I got it right in 7 tries.\n",
      "With 12 in mind, I got it right in 3 tries.\n",
      "With 13 in mind, I got it right in 6 tries.\n",
      "With 14 in mind, I got it right in 7 tries.\n",
      "With 15 in mind, I got it right in 5 tries.\n",
      "With 16 in mind, I got it right in 6 tries.\n",
      "With 17 in mind, I got it right in 7 tries.\n",
      "With 18 in mind, I got it right in 4 tries.\n",
      "With 19 in mind, I got it right in 6 tries.\n",
      "With 20 in mind, I got it right in 7 tries.\n",
      "With 21 in mind, I got it right in 5 tries.\n",
      "With 22 in mind, I got it right in 7 tries.\n",
      "With 23 in mind, I got it right in 6 tries.\n",
      "With 24 in mind, I got it right in 7 tries.\n",
      "With 25 in mind, I got it right in 2 tries.\n",
      "With 26 in mind, I got it right in 6 tries.\n",
      "With 27 in mind, I got it right in 7 tries.\n",
      "With 28 in mind, I got it right in 5 tries.\n",
      "With 29 in mind, I got it right in 6 tries.\n",
      "With 30 in mind, I got it right in 7 tries.\n",
      "With 31 in mind, I got it right in 4 tries.\n",
      "With 32 in mind, I got it right in 6 tries.\n",
      "With 33 in mind, I got it right in 7 tries.\n",
      "With 34 in mind, I got it right in 5 tries.\n",
      "With 35 in mind, I got it right in 6 tries.\n",
      "With 36 in mind, I got it right in 7 tries.\n",
      "With 37 in mind, I got it right in 3 tries.\n",
      "With 38 in mind, I got it right in 6 tries.\n",
      "With 39 in mind, I got it right in 7 tries.\n",
      "With 40 in mind, I got it right in 5 tries.\n",
      "With 41 in mind, I got it right in 6 tries.\n",
      "With 42 in mind, I got it right in 7 tries.\n",
      "With 43 in mind, I got it right in 4 tries.\n",
      "With 44 in mind, I got it right in 6 tries.\n",
      "With 45 in mind, I got it right in 7 tries.\n",
      "With 46 in mind, I got it right in 5 tries.\n",
      "With 47 in mind, I got it right in 7 tries.\n",
      "With 48 in mind, I got it right in 6 tries.\n",
      "With 49 in mind, I got it right in 7 tries.\n",
      "With 50 in mind, I got it right in 1 tries.\n",
      "With 51 in mind, I got it right in 6 tries.\n",
      "With 52 in mind, I got it right in 7 tries.\n",
      "With 53 in mind, I got it right in 5 tries.\n",
      "With 54 in mind, I got it right in 6 tries.\n",
      "With 55 in mind, I got it right in 7 tries.\n",
      "With 56 in mind, I got it right in 4 tries.\n",
      "With 57 in mind, I got it right in 6 tries.\n",
      "With 58 in mind, I got it right in 7 tries.\n",
      "With 59 in mind, I got it right in 5 tries.\n",
      "With 60 in mind, I got it right in 6 tries.\n",
      "With 61 in mind, I got it right in 7 tries.\n",
      "With 62 in mind, I got it right in 3 tries.\n",
      "With 63 in mind, I got it right in 6 tries.\n",
      "With 64 in mind, I got it right in 7 tries.\n",
      "With 65 in mind, I got it right in 5 tries.\n",
      "With 66 in mind, I got it right in 6 tries.\n",
      "With 67 in mind, I got it right in 7 tries.\n",
      "With 68 in mind, I got it right in 4 tries.\n",
      "With 69 in mind, I got it right in 6 tries.\n",
      "With 70 in mind, I got it right in 7 tries.\n",
      "With 71 in mind, I got it right in 5 tries.\n",
      "With 72 in mind, I got it right in 7 tries.\n",
      "With 73 in mind, I got it right in 6 tries.\n",
      "With 74 in mind, I got it right in 7 tries.\n",
      "With 75 in mind, I got it right in 2 tries.\n",
      "With 76 in mind, I got it right in 6 tries.\n",
      "With 77 in mind, I got it right in 7 tries.\n",
      "With 78 in mind, I got it right in 5 tries.\n",
      "With 79 in mind, I got it right in 6 tries.\n",
      "With 80 in mind, I got it right in 7 tries.\n",
      "With 81 in mind, I got it right in 4 tries.\n",
      "With 82 in mind, I got it right in 6 tries.\n",
      "With 83 in mind, I got it right in 7 tries.\n",
      "With 84 in mind, I got it right in 5 tries.\n",
      "With 85 in mind, I got it right in 7 tries.\n",
      "With 86 in mind, I got it right in 6 tries.\n",
      "With 87 in mind, I got it right in 7 tries.\n",
      "With 88 in mind, I got it right in 3 tries.\n",
      "With 89 in mind, I got it right in 6 tries.\n",
      "With 90 in mind, I got it right in 7 tries.\n",
      "With 91 in mind, I got it right in 5 tries.\n",
      "With 92 in mind, I got it right in 6 tries.\n",
      "With 93 in mind, I got it right in 7 tries.\n",
      "With 94 in mind, I got it right in 4 tries.\n",
      "With 95 in mind, I got it right in 6 tries.\n",
      "With 96 in mind, I got it right in 7 tries.\n",
      "With 97 in mind, I got it right in 5 tries.\n",
      "With 98 in mind, I got it right in 7 tries.\n",
      "With 99 in mind, I got it right in 6 tries.\n"
     ]
    }
   ],
   "source": [
    "for i in range(100):\n",
    "    print(f'With {i} in mind, {guess(i)}')"
   ]
  },
  {
   "cell_type": "code",
   "execution_count": null,
   "id": "aeba4e87",
   "metadata": {},
   "outputs": [],
   "source": []
  }
 ],
 "metadata": {
  "kernelspec": {
   "display_name": "Python 3 (ipykernel)",
   "language": "python",
   "name": "python3"
  },
  "language_info": {
   "codemirror_mode": {
    "name": "ipython",
    "version": 3
   },
   "file_extension": ".py",
   "mimetype": "text/x-python",
   "name": "python",
   "nbconvert_exporter": "python",
   "pygments_lexer": "ipython3",
   "version": "3.12.5"
  }
 },
 "nbformat": 4,
 "nbformat_minor": 5
}
